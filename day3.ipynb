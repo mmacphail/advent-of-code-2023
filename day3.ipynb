{
 "cells": [
  {
   "cell_type": "code",
   "execution_count": 95,
   "metadata": {},
   "outputs": [
    {
     "data": {
      "text/plain": [
       "True"
      ]
     },
     "execution_count": 95,
     "metadata": {},
     "output_type": "execute_result"
    }
   ],
   "source": [
    "import os\n",
    "from dotenv import load_dotenv\n",
    "\n",
    "load_dotenv() # load session"
   ]
  },
  {
   "cell_type": "code",
   "execution_count": 96,
   "metadata": {},
   "outputs": [],
   "source": [
    "from aocd import get_data\n",
    "day = 3\n",
    "year = 2023\n",
    "\n",
    "input = get_data(day=day, year=year)"
   ]
  },
  {
   "cell_type": "code",
   "execution_count": 97,
   "metadata": {},
   "outputs": [],
   "source": [
    "def read_schematic(text):\n",
    "  lines = text.splitlines()\n",
    "  schematic = [[0 for _ in range(len(lines))] for _ in range(len(lines[0]))]\n",
    "  for line_index, line in enumerate(lines):\n",
    "    for column_index, char in enumerate(line):\n",
    "      if char.isdigit():\n",
    "        schematic[line_index][column_index] = { 'type': 'part_digit', 'value': char }\n",
    "      elif char != '.':\n",
    "        schematic[line_index][column_index] = { 'type': 'symbol', 'value': char }\n",
    "      else:\n",
    "        schematic[line_index][column_index] = { 'type': 'empty' }\n",
    "\n",
    "  return schematic"
   ]
  },
  {
   "cell_type": "code",
   "execution_count": 117,
   "metadata": {},
   "outputs": [],
   "source": [
    "example_input = \"\"\"467..114..\n",
    "...*......\n",
    "..35..633.\n",
    "......#...\n",
    "617*......\n",
    ".....+.58.\n",
    "..592.....\n",
    "......755.\n",
    "...$.*....\n",
    ".664.598..\"\"\"\n",
    "\n",
    "schematic = read_schematic(example_input)"
   ]
  },
  {
   "cell_type": "code",
   "execution_count": 118,
   "metadata": {},
   "outputs": [
    {
     "data": {
      "text/plain": [
       "[('467', 0, 0),\n",
       " ('114', 0, 5),\n",
       " ('35', 2, 2),\n",
       " ('633', 2, 6),\n",
       " ('617', 4, 0),\n",
       " ('58', 5, 7),\n",
       " ('592', 6, 2),\n",
       " ('755', 7, 6),\n",
       " ('664', 9, 1),\n",
       " ('598', 9, 5)]"
      ]
     },
     "execution_count": 118,
     "metadata": {},
     "output_type": "execute_result"
    }
   ],
   "source": [
    "def find_parts(schematic):\n",
    "  parts = []\n",
    "  for line_index, _ in enumerate(schematic):\n",
    "    part_starting_column = None\n",
    "    part_digits = []\n",
    "    for column_index, column in enumerate(schematic[line_index]):\n",
    "      if column['type'] == 'part_digit':\n",
    "        part_starting_column = column_index if part_starting_column == None else part_starting_column\n",
    "        part_digits.append(column['value'])\n",
    "\n",
    "        if column_index == len(schematic[0]) - 1:\n",
    "          parts.append((''.join(part_digits), line_index, part_starting_column))\n",
    "          part_starting_column = None\n",
    "          part_digits = []\n",
    "      else:\n",
    "        if part_starting_column != None:\n",
    "          parts.append((''.join(part_digits), line_index, part_starting_column))\n",
    "          part_starting_column = None\n",
    "          part_digits = []\n",
    "\n",
    "  return parts\n",
    "\n",
    "find_parts(schematic)"
   ]
  },
  {
   "cell_type": "code",
   "execution_count": 119,
   "metadata": {},
   "outputs": [
    {
     "data": {
      "text/plain": [
       "[('*', 1, 3), ('#', 3, 6), ('*', 4, 3), ('+', 5, 5), ('$', 8, 3), ('*', 8, 5)]"
      ]
     },
     "execution_count": 119,
     "metadata": {},
     "output_type": "execute_result"
    }
   ],
   "source": [
    "def find_symbols(schematic):\n",
    "    symbols = [(column['value'], line_index, column_index)\n",
    "             for line_index, line in enumerate(schematic)\n",
    "             for column_index, column in enumerate(line) if column['type'] == 'symbol']\n",
    "    \n",
    "    return symbols\n",
    "\n",
    "find_symbols(schematic)"
   ]
  },
  {
   "cell_type": "code",
   "execution_count": 120,
   "metadata": {},
   "outputs": [
    {
     "data": {
      "text/plain": [
       "[(2, 0), (2, 1), (2, 2), (3, 0), (3, 2), (4, 0), (4, 1), (4, 2)]"
      ]
     },
     "execution_count": 120,
     "metadata": {},
     "output_type": "execute_result"
    }
   ],
   "source": [
    "def adjacents_spaces_to(line_index, column_index, line_size, line_count):\n",
    "  adjacents = [(line_index + l, column_index + c) \n",
    "               for l in [-1, 0, 1] if line_index + l >= 0 and line_index + l < line_count\n",
    "               for c in [-1, 0, 1] if column_index + c >= 0 and column_index + c < line_size\n",
    "               and (line_index + l, column_index + c) != (line_index, column_index)]\n",
    "  return adjacents\n",
    "\n",
    "adjacents_spaces_to(3, 1, 10, 10)"
   ]
  },
  {
   "cell_type": "code",
   "execution_count": 121,
   "metadata": {},
   "outputs": [],
   "source": [
    "parts = find_parts(schematic)\n",
    "\n",
    "def is_part_adjacent_of_symbol(schematic, symbol, part):\n",
    "  _, symbol_line, symbol_column = symbol\n",
    "  part_number, part_line, part_column = part\n",
    "  spaces_adjacents_to_symbol = adjacents_spaces_to(symbol_line, symbol_column, len(schematic), len(schematic[0]))\n",
    "  for i in range(len(part_number)):\n",
    "    if (part_line, part_column + i) in spaces_adjacents_to_symbol:\n",
    "      return True\n",
    "  return False\n",
    "\n",
    "assert is_part_adjacent_of_symbol(schematic, ('*', 1, 3), ('467', 0, 0))\n",
    "assert is_part_adjacent_of_symbol(schematic, ('*', 1, 3), ('114', 0, 5)) == False\n"
   ]
  },
  {
   "cell_type": "code",
   "execution_count": 122,
   "metadata": {},
   "outputs": [],
   "source": [
    "def find_parts_adjacents_to_a_symbol(schematic):\n",
    "  parts = find_parts(schematic)\n",
    "  symbols = find_symbols(schematic)\n",
    "\n",
    "  return [part\n",
    "          for symbol in symbols\n",
    "          for part in parts if is_part_adjacent_of_symbol(schematic, symbol, part)]\n",
    "\n",
    "find_parts_adjacents_to_a_symbol(schematic)\n",
    "\n",
    "assert sum(int(part[0]) for part in find_parts_adjacents_to_a_symbol(schematic)) == 4361\n"
   ]
  },
  {
   "cell_type": "code",
   "execution_count": 125,
   "metadata": {},
   "outputs": [
    {
     "name": "stdout",
     "output_type": "stream",
     "text": [
      "\u001b[32mThat's the right answer!  You are one gold star closer to restoring snow operations. [Continue to Part Two]\u001b[0m\n"
     ]
    },
    {
     "data": {
      "text/plain": [
       "<urllib3.response.HTTPResponse at 0x222fa52ec80>"
      ]
     },
     "execution_count": 125,
     "metadata": {},
     "output_type": "execute_result"
    }
   ],
   "source": [
    "from aocd import submit\n",
    "\n",
    "schematic = read_schematic(input)\n",
    "parts = find_parts_adjacents_to_a_symbol(schematic)\n",
    "\n",
    "result = sum(int(part[0]) for part in parts)\n",
    "\n",
    "submit(answer=result, part='a', day=day, year=year)"
   ]
  },
  {
   "cell_type": "code",
   "execution_count": 139,
   "metadata": {},
   "outputs": [],
   "source": [
    "example_input = \"\"\"467..114..\n",
    "...*......\n",
    "..35..633.\n",
    "......#...\n",
    "617*......\n",
    ".....+.58.\n",
    "..592.....\n",
    "......755.\n",
    "...$.*....\n",
    ".664.598..\"\"\"\n",
    "\n",
    "def find_gear_ratio(schematic):\n",
    "  parts = find_parts(schematic)\n",
    "  symbols = find_symbols(schematic)\n",
    "\n",
    "  gear_ratios = []\n",
    "  for symbol in symbols:\n",
    "    if symbol[0] == '*':\n",
    "      adjacent_parts = []\n",
    "      for part in parts:\n",
    "        if is_part_adjacent_of_symbol(schematic, symbol, part):\n",
    "          adjacent_parts.append(part)\n",
    "      if len(adjacent_parts) == 2:\n",
    "        gear_ratios.append(int(adjacent_parts[0][0]) * int(adjacent_parts[1][0]))\n",
    "\n",
    "  return sum(gear_ratios)\n",
    "\n",
    "assert find_gear_ratio(read_schematic(example_input)) == 467835"
   ]
  },
  {
   "cell_type": "code",
   "execution_count": 143,
   "metadata": {},
   "outputs": [
    {
     "name": "stdout",
     "output_type": "stream",
     "text": [
      "\u001b[32mThat's the right answer!  You are one gold star closer to restoring snow operations.You have completed Day 3! You can [Shareon\n",
      "  Twitter\n",
      "Mastodon] this victory or [Return to Your Advent Calendar].\u001b[0m\n"
     ]
    },
    {
     "data": {
      "text/plain": [
       "<urllib3.response.HTTPResponse at 0x222fa5bdd50>"
      ]
     },
     "execution_count": 143,
     "metadata": {},
     "output_type": "execute_result"
    }
   ],
   "source": [
    "schematic = read_schematic(input)\n",
    "\n",
    "result = find_gear_ratio(schematic)\n",
    "\n",
    "submit(answer=result, part='b', day=day, year=year)"
   ]
  }
 ],
 "metadata": {
  "kernelspec": {
   "display_name": "Python 3",
   "language": "python",
   "name": "python3"
  },
  "language_info": {
   "codemirror_mode": {
    "name": "ipython",
    "version": 3
   },
   "file_extension": ".py",
   "mimetype": "text/x-python",
   "name": "python",
   "nbconvert_exporter": "python",
   "pygments_lexer": "ipython3",
   "version": "3.11.6"
  }
 },
 "nbformat": 4,
 "nbformat_minor": 2
}
