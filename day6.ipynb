{
 "cells": [
  {
   "cell_type": "code",
   "execution_count": 1,
   "metadata": {},
   "outputs": [
    {
     "data": {
      "text/plain": [
       "True"
      ]
     },
     "execution_count": 1,
     "metadata": {},
     "output_type": "execute_result"
    }
   ],
   "source": [
    "from dotenv import load_dotenv\n",
    "\n",
    "load_dotenv() # load session"
   ]
  },
  {
   "cell_type": "code",
   "execution_count": 36,
   "metadata": {},
   "outputs": [],
   "source": [
    "import re\n",
    "from functools import reduce\n",
    "from aocd import get_data, submit\n",
    "day = 6\n",
    "year = 2023\n",
    "\n",
    "input = get_data(day=day, year=year)\n",
    "\n",
    "# submit(answer=result, part=\"a\", day=day, year=year)"
   ]
  },
  {
   "cell_type": "code",
   "execution_count": 37,
   "metadata": {},
   "outputs": [],
   "source": [
    "text = \"\"\"Time:      7  15   30\n",
    "Distance:  9  40  200\"\"\"\n",
    "\n",
    "def read_races(text):\n",
    "  lines = text.splitlines()\n",
    "  numbers = [[int(number) \n",
    "            for number in re.findall(r\"\\d+\", line)]\n",
    "            for line in lines]\n",
    "\n",
    "  return list(zip(numbers[0], numbers[1]))\n",
    "\n",
    "example_races = read_races(text)\n",
    "\n",
    "assert example_races == [(7, 9), (15, 40), (30, 200)]"
   ]
  },
  {
   "cell_type": "code",
   "execution_count": 38,
   "metadata": {},
   "outputs": [],
   "source": [
    "def distance_travelled(race_duration, time_holding_button):\n",
    "  distance_travelled = 0\n",
    "  speed = time_holding_button\n",
    "  for i in range(race_duration - time_holding_button):\n",
    "    distance_travelled += speed\n",
    "  return distance_travelled\n",
    "\n",
    "assert distance_travelled(7, 0) == 0\n",
    "assert distance_travelled(7, 1) == 6\n",
    "assert distance_travelled(7, 2) == 10\n",
    "assert distance_travelled(7, 3) == 12\n",
    "assert distance_travelled(7, 4) == 12\n",
    "assert distance_travelled(7, 5) == 10\n",
    "assert distance_travelled(7, 6) == 6\n",
    "assert distance_travelled(7, 7) == 0"
   ]
  },
  {
   "cell_type": "code",
   "execution_count": 39,
   "metadata": {},
   "outputs": [],
   "source": [
    "def find_out_winning_strategies(race_duration, current_record):\n",
    "  winning_strategies = []\n",
    "  for time_holding_button in range(0, race_duration + 1):\n",
    "    distance = distance_travelled(race_duration, time_holding_button)\n",
    "    if distance > current_record:\n",
    "      winning_strategies.append(time_holding_button)\n",
    "  return winning_strategies\n",
    "\n",
    "assert find_out_winning_strategies(7, 9) == [2, 3, 4, 5]"
   ]
  },
  {
   "cell_type": "code",
   "execution_count": 40,
   "metadata": {},
   "outputs": [
    {
     "data": {
      "text/plain": [
       "288"
      ]
     },
     "execution_count": 40,
     "metadata": {},
     "output_type": "execute_result"
    }
   ],
   "source": [
    "def find_number_of_ways_to_beat_the_record(races):\n",
    "  numbers = []\n",
    "  for time, distance in races:\n",
    "    winning_strategies = find_out_winning_strategies(time, distance)\n",
    "    numbers.append(len(winning_strategies))\n",
    "  return reduce(lambda x, y: x * y, numbers)\n",
    "\n",
    "find_number_of_ways_to_beat_the_record(example_races)"
   ]
  },
  {
   "cell_type": "code",
   "execution_count": 43,
   "metadata": {},
   "outputs": [
    {
     "name": "stdout",
     "output_type": "stream",
     "text": [
      "\u001b[32mThat's the right answer!  You are one gold star closer to restoring snow operations. [Continue to Part Two]\u001b[0m\n"
     ]
    },
    {
     "data": {
      "text/plain": [
       "<urllib3.response.HTTPResponse at 0x15ebeced090>"
      ]
     },
     "execution_count": 43,
     "metadata": {},
     "output_type": "execute_result"
    }
   ],
   "source": [
    "races = read_races(input)\n",
    "\n",
    "result = find_number_of_ways_to_beat_the_record(races)\n",
    "\n",
    "submit(answer=result, part=\"a\", day=day, year=year)"
   ]
  },
  {
   "cell_type": "code",
   "execution_count": 53,
   "metadata": {},
   "outputs": [
    {
     "name": "stdout",
     "output_type": "stream",
     "text": [
      "(71530, 940200)\n"
     ]
    }
   ],
   "source": [
    "def read_races_corrected(text):\n",
    "  lines = text.splitlines()\n",
    "  numbers = [line.replace(\"Time: \", \"\").replace(\"Distance: \", \"\").replace(\" \", \"\")\n",
    "            for line in lines]\n",
    "\n",
    "  return [(int(numbers[0]), int(numbers[1]))]\n",
    "\n",
    "example_race = read_races_corrected(text)[0]\n",
    "\n",
    "print(example_race)"
   ]
  },
  {
   "cell_type": "code",
   "execution_count": 86,
   "metadata": {},
   "outputs": [],
   "source": [
    "def binary_search_first_winning_time(race_time, time_range, current_record, min_time_to_beat_record):\n",
    "  range_start, range_stop = time_range\n",
    "\n",
    "  if range_stop >= range_start:\n",
    "    mid = (range_start + range_stop) // 2\n",
    "    distance = distance_travelled(race_time, mid)\n",
    "    if(distance >= current_record):\n",
    "      min_time_to_beat_record = mid\n",
    "      return binary_search_first_winning_time(race_time, (range_start, mid - 1), current_record, min_time_to_beat_record)\n",
    "    else:\n",
    "      return binary_search_first_winning_time(race_time, (mid + 1, range_stop), current_record, min_time_to_beat_record)\n",
    "  else:\n",
    "    return min_time_to_beat_record\n",
    "\n",
    "def binary_search_max_winning_time(race_time, time_range, current_record, max_time_to_beat_record):\n",
    "  range_start, range_stop = time_range\n",
    "\n",
    "  if range_stop >= range_start:\n",
    "    mid = (range_start + range_stop) // 2\n",
    "    distance = distance_travelled(race_time, mid)\n",
    "    if(distance >= current_record):\n",
    "      max_time_to_beat_record = mid\n",
    "      return binary_search_max_winning_time(race_time, (mid + 1, range_stop), current_record, max_time_to_beat_record)\n",
    "    else:\n",
    "      return binary_search_max_winning_time(race_time, (range_start, mid - 1), current_record, max_time_to_beat_record)\n",
    "  else:\n",
    "    return max_time_to_beat_record\n",
    "\n",
    "def search_for_winning_strategies(race):\n",
    "  time, distance = race\n",
    "  min_time_to_beat_record = binary_search_first_winning_time(time, (0, time), distance, None)\n",
    "  max_time_to_beat_record = binary_search_max_winning_time(time, (min_time_to_beat_record, time), distance, None)\n",
    "  return max_time_to_beat_record - min_time_to_beat_record + 1\n",
    "\n",
    "assert search_for_winning_strategies(example_race) == 71503"
   ]
  },
  {
   "cell_type": "code",
   "execution_count": 89,
   "metadata": {},
   "outputs": [
    {
     "name": "stdout",
     "output_type": "stream",
     "text": [
      "Part b already solved with same answer: 43663323\n"
     ]
    }
   ],
   "source": [
    "race = read_races_corrected(input)[0]\n",
    "\n",
    "result = search_for_winning_strategies(race)\n",
    "\n",
    "submit(answer=result, part=\"b\", day=day, year=year)"
   ]
  }
 ],
 "metadata": {
  "kernelspec": {
   "display_name": "Python 3",
   "language": "python",
   "name": "python3"
  },
  "language_info": {
   "codemirror_mode": {
    "name": "ipython",
    "version": 3
   },
   "file_extension": ".py",
   "mimetype": "text/x-python",
   "name": "python",
   "nbconvert_exporter": "python",
   "pygments_lexer": "ipython3",
   "version": "3.11.7"
  }
 },
 "nbformat": 4,
 "nbformat_minor": 2
}
