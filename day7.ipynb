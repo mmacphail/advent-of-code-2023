{
 "cells": [
  {
   "cell_type": "code",
   "execution_count": 85,
   "metadata": {},
   "outputs": [
    {
     "data": {
      "text/plain": [
       "True"
      ]
     },
     "execution_count": 85,
     "metadata": {},
     "output_type": "execute_result"
    }
   ],
   "source": [
    "from dotenv import load_dotenv\n",
    "\n",
    "load_dotenv() # load session"
   ]
  },
  {
   "cell_type": "code",
   "execution_count": 86,
   "metadata": {},
   "outputs": [],
   "source": [
    "import re\n",
    "from functools import reduce\n",
    "from itertools import groupby\n",
    "from aocd import get_data, submit\n",
    "day = 7\n",
    "year = 2023\n",
    "\n",
    "input = get_data(day=day, year=year)\n",
    "\n",
    "# submit(answer=result, part=\"a\", day=day, year=year)"
   ]
  },
  {
   "cell_type": "code",
   "execution_count": 87,
   "metadata": {},
   "outputs": [],
   "source": [
    "text = \"\"\"32T3K 765\n",
    "T55J5 684\n",
    "KK677 28\n",
    "KTJJT 220\n",
    "QQQJA 483\"\"\""
   ]
  },
  {
   "cell_type": "code",
   "execution_count": 146,
   "metadata": {},
   "outputs": [],
   "source": [
    "from functools import cmp_to_key\n",
    "\n",
    "labels = ['2', '3', '4', '5', '6', '7', '8', '9', 'T', 'J', 'Q', 'K', 'A']\n",
    "hand_types = ['high_card', 'one_pair', 'two_pair', 'three_of_a_kind', 'full_house', 'four_of_a_kind', 'five_of_a_kind']\n",
    "\n",
    "def compare_card(card1, card2):\n",
    "  return labels.index(card1) - labels.index(card2)\n",
    "\n",
    "assert compare_card('2', '3') < 0\n",
    "assert compare_card('A', '3') > 0\n",
    "assert compare_card('K', 'K') == 0\n",
    "\n",
    "def evaluate_hand(hand):\n",
    "  def rest(cards):\n",
    "    hands_minus_cards = set(hand) - set(cards)\n",
    "    return sorted(list(hands_minus_cards), key=cmp_to_key(compare_card), reverse=True)\n",
    "\n",
    "  cards = {label: len(list(cards))\n",
    "          for label, cards in groupby(sorted(hand, key=cmp_to_key(compare_card), reverse=True))}\n",
    "  \n",
    "  for label, number in sorted(cards.items(), key=lambda item: item[1], reverse=True):\n",
    "    if number == 5:\n",
    "      return ('five_of_a_kind', [label])\n",
    "    elif number == 4:\n",
    "      return ('four_of_a_kind', [label] + rest(label))\n",
    "    elif number == 3:\n",
    "      if len(set([label for label in hand])) == 2:\n",
    "        return ('full_house', [label] + rest(label))\n",
    "      else:\n",
    "        return ('three_of_a_kind', [label] + rest(label))\n",
    "    elif number == 2:\n",
    "      if len(set([label for label in hand])) == 3:\n",
    "        other_label = [label2 for label2 in hand if label != label2 and cards[label2] == 2][0]\n",
    "        return ('two_pair', [label, other_label] + rest([label, other_label]))\n",
    "      else:\n",
    "        return ('one_pair', [label] + rest(label))\n",
    "    else:\n",
    "      return ('high_card', rest([]))\n",
    "\n",
    "assert evaluate_hand(\"AAAAA\") == ('five_of_a_kind', ['A'])\n",
    "assert evaluate_hand(\"AAAAQ\") == ('four_of_a_kind', ['A', 'Q'])\n",
    "assert evaluate_hand(\"QAAAA\") == ('four_of_a_kind', ['A', 'Q'])\n",
    "assert evaluate_hand(\"AAAQQ\") == ('full_house', ['A', 'Q'])\n",
    "assert evaluate_hand(\"QQQAA\") == ('full_house', ['Q', 'A'])\n",
    "assert evaluate_hand(\"QQQAK\") == ('three_of_a_kind', ['Q', 'A', 'K'])\n",
    "assert evaluate_hand(\"QQQKA\") == ('three_of_a_kind', ['Q', 'A', 'K'])\n",
    "assert evaluate_hand(\"QQQ23\") == ('three_of_a_kind', ['Q', '3', '2'])\n",
    "assert evaluate_hand(\"QQQ32\") == ('three_of_a_kind', ['Q', '3', '2'])\n",
    "assert evaluate_hand(\"44332\") == ('two_pair', ['4', '3', '2'])\n",
    "assert evaluate_hand(\"44223\") == ('two_pair', ['4', '2', '3'])\n",
    "assert evaluate_hand(\"44AQJ\") == ('one_pair', ['4', 'A', 'Q', 'J'])\n",
    "assert evaluate_hand(\"44QAJ\") == ('one_pair', ['4', 'A', 'Q', 'J'])\n",
    "assert evaluate_hand(\"44JQA\") == ('one_pair', ['4', 'A', 'Q', 'J'])\n",
    "assert evaluate_hand(\"23456\") == ('high_card', ['6', '5', '4', '3', '2'])\n",
    "assert evaluate_hand(\"63542\") == ('high_card', ['6', '5', '4', '3', '2'])"
   ]
  },
  {
   "cell_type": "code",
   "execution_count": 147,
   "metadata": {},
   "outputs": [],
   "source": [
    "def best_hand(cards1, cards2): # poker version\n",
    "  for i, _ in enumerate(cards1):\n",
    "    comp = compare_card(cards1[i], cards2[i])\n",
    "    if comp != 0:\n",
    "      return comp\n",
    "  return 0\n",
    "\n",
    "def best_hand2(hand1, hand2): # camel card version\n",
    "  for i, _ in enumerate(hand1):\n",
    "    comp = compare_card(hand1[i], hand2[i])\n",
    "    if comp != 0:\n",
    "      return comp\n",
    "  return 0\n",
    "\n",
    "def compare_hands(hand1, hand2):\n",
    "  type1, cards1 = evaluate_hand(hand1)\n",
    "  type2, cards2 = evaluate_hand(hand2)\n",
    "  \n",
    "  if type1 == type2:\n",
    "    return best_hand2(hand1, hand2)\n",
    "  else:\n",
    "    return hand_types.index(type1) - hand_types.index(type2)\n",
    "  \n",
    "assert compare_hands(\"33332\", \"2AAAA\") > 0\n",
    "assert compare_hands(\"77888\", \"77788\") > 0\n",
    "assert compare_hands(\"AAAAA\", \"A2345\") > 0\n",
    "assert compare_hands(\"A2345\", \"AAAAA\") < 0\n",
    "assert compare_hands(\"AAAAQ\", \"AAQQK\") > 0\n",
    "assert compare_hands(\"22334\", \"QQA23\") > 0\n",
    "assert compare_hands(\"22243\", \"2345A\") > 0\n",
    "assert compare_hands(\"AAAAA\", \"KKKKK\") > 0\n",
    "assert compare_hands(\"QQQQ2\", \"JJJJ3\") > 0\n",
    "assert compare_hands(\"QQQ22\", \"JJJ33\") > 0\n",
    "assert compare_hands(\"QQQ35\", \"QQQ34\") > 0\n",
    "assert compare_hands(\"4499A\", \"44992\") > 0\n",
    "assert compare_hands(\"44236\", \"44235\") > 0\n",
    "assert compare_hands(\"23457\", \"23456\") > 0"
   ]
  },
  {
   "cell_type": "code",
   "execution_count": 132,
   "metadata": {},
   "outputs": [],
   "source": [
    "# print(text)\n",
    "\n",
    "def read_line(line):\n",
    "  parts = line.split(\" \")\n",
    "  return (parts[0], int(parts[1]))\n",
    "\n",
    "def read_hands_and_bids(text):\n",
    "  return [read_line(line) for line in text.splitlines()]\n",
    "\n",
    "def compare_hand_and_bid(hand1, hand2):\n",
    "  return compare_hands(hand1[0], hand2[0])\n",
    "\n",
    "example_hands_and_bids = read_hands_and_bids(text)\n",
    "\n",
    "result = sum([index * bid\n",
    "              for index, (_, bid) in enumerate(sorted(example_hands_and_bids, key=cmp_to_key(compare_hand_and_bid)), start=1)])\n",
    "\n",
    "assert result == 6440"
   ]
  },
  {
   "cell_type": "code",
   "execution_count": 133,
   "metadata": {},
   "outputs": [],
   "source": [
    "text2 = \"\"\"2345A 1\n",
    "Q2KJJ 13\n",
    "Q2Q2Q 19\n",
    "T3T3J 17\n",
    "T3Q33 11\n",
    "2345J 3\n",
    "J345A 2\n",
    "32T3K 5\n",
    "T55J5 29\n",
    "KK677 7\n",
    "KTJJT 34\n",
    "QQQJA 31\n",
    "JJJJJ 37\n",
    "JAAAA 43\n",
    "AAAAJ 59\n",
    "AAAAA 61\n",
    "2AAAA 23\n",
    "2JJJJ 53\n",
    "JJJJ2 41\"\"\"\n",
    "\n",
    "example_hands_and_bids2 = read_hands_and_bids(text2)\n",
    "\n",
    "result = sum([index * bid\n",
    "              for index, (_, bid) in enumerate(sorted(example_hands_and_bids2, key=cmp_to_key(compare_hand_and_bid)), start=1)])\n",
    "\n",
    "assert result == 6592\n"
   ]
  },
  {
   "cell_type": "code",
   "execution_count": 134,
   "metadata": {},
   "outputs": [
    {
     "name": "stdout",
     "output_type": "stream",
     "text": [
      "aocd will not submit that answer again. At 2023-12-07 14:41:04.806291-05:00 you've previously submitted 256448566 and the server responded with:\n",
      "\u001b[32mThat's the right answer!  You are one gold star closer to restoring snow operations. [Continue to Part Two]\u001b[0m\n"
     ]
    }
   ],
   "source": [
    "hands_and_bids = read_hands_and_bids(input)\n",
    "\n",
    "result = sum([index * bid\n",
    "              for index, (_, bid) in enumerate(sorted(hands_and_bids, key=cmp_to_key(compare_hand_and_bid)), start=1)])\n",
    "\n",
    "submit(answer=result, part=\"a\", day=day, year=year)"
   ]
  },
  {
   "cell_type": "code",
   "execution_count": 172,
   "metadata": {},
   "outputs": [],
   "source": [
    "labels = ['J', '2', '3', '4', '5', '6', '7', '8', '9', 'T', 'Q', 'K', 'A']\n",
    "hand_types = ['high_card', 'one_pair', 'two_pair', 'three_of_a_kind', 'full_house', 'four_of_a_kind', 'five_of_a_kind']\n",
    "\n",
    "def compare_card(card1, card2):\n",
    "  return labels.index(card1) - labels.index(card2)\n",
    "\n",
    "assert compare_card('2', 'J') > 0\n",
    "assert compare_card('2', '3') < 0\n",
    "assert compare_card('A', '3') > 0\n",
    "assert compare_card('K', 'K') == 0"
   ]
  },
  {
   "cell_type": "code",
   "execution_count": 187,
   "metadata": {},
   "outputs": [],
   "source": [
    "def evaluate_hand(hand):\n",
    "  joker_in_hand = 'J' in hand\n",
    "\n",
    "  cards = {label: len(list(cards))\n",
    "          for label, cards in groupby(sorted(hand, key=cmp_to_key(compare_card), reverse=True))}\n",
    "  \n",
    "  for label, number in sorted(cards.items(), key=lambda item: item[1], reverse=True):\n",
    "    if number == 5:\n",
    "      return 'five_of_a_kind'\n",
    "    elif number == 4:\n",
    "      if not joker_in_hand:\n",
    "        return 'four_of_a_kind'\n",
    "      else: \n",
    "        # JJJJA returns five_of_a_kind\n",
    "        # AAAAJ returns five_of_a_kind\n",
    "        return 'five_of_a_kind'\n",
    "    elif number == 3:\n",
    "      is_full_house = len(set(hand)) == 2\n",
    "      if is_full_house:\n",
    "        if not joker_in_hand:\n",
    "          return 'full_house'\n",
    "        else:\n",
    "          # JJJQQ returns five_of_a_kind\n",
    "          # QQQJJ returns five_of_a_kind\n",
    "          return 'five_of_a_kind'\n",
    "      else: # not full house\n",
    "        if not joker_in_hand:\n",
    "          return 'three_of_a_kind'\n",
    "        else:\n",
    "          # JJJ23 returns four_of_a_kind\n",
    "          # QQQJ2 returns four_of_a_kind\n",
    "          return 'four_of_a_kind'\n",
    "    elif number == 2:\n",
    "      is_two_pair = len(set(hand)) == 3\n",
    "      if is_two_pair:\n",
    "        other_label = [label2 for label2 in hand if label != label2 and cards[label2] == 2][0]\n",
    "        if not joker_in_hand:\n",
    "          return 'two_pair'\n",
    "        else:\n",
    "          if label == 'J' or other_label == 'J':\n",
    "            # JJQQ2 returns four_of_a_kind\n",
    "            # QJJJ2 returns four_of_a_kind\n",
    "            return 'four_of_a_kind'\n",
    "          else: # J is the last label\n",
    "            # QQAAJ returns full_house\n",
    "            return 'full_house'\n",
    "      else: # not two pair\n",
    "        if not joker_in_hand:\n",
    "          return 'one_pair'\n",
    "        else:\n",
    "          # JJQ23 returns three_of_a_kind\n",
    "          # AAJQ3 returns three_of_a_kind\n",
    "          return 'three_of_a_kind'\n",
    "    else:\n",
    "      if not joker_in_hand:\n",
    "        return 'high_card'\n",
    "      else:\n",
    "        return 'one_pair'\n",
    "\n",
    "assert evaluate_hand(\"AAAAA\") == 'five_of_a_kind'\n",
    "assert evaluate_hand(\"AAAA2\") == 'four_of_a_kind'\n",
    "assert evaluate_hand(\"AAA22\") == 'full_house'\n",
    "assert evaluate_hand(\"AAA23\") == 'three_of_a_kind'\n",
    "assert evaluate_hand(\"AA223\") == 'two_pair'\n",
    "assert evaluate_hand(\"AA823\") == 'one_pair'\n",
    "assert evaluate_hand(\"A9823\") == 'high_card'\n",
    "assert evaluate_hand(\"JAAAA\") == 'five_of_a_kind'\n",
    "assert evaluate_hand(\"JAAA2\") == 'four_of_a_kind'\n",
    "assert evaluate_hand(\"JAA22\") == 'full_house'\n",
    "assert evaluate_hand(\"JAA23\") == 'three_of_a_kind'\n",
    "assert evaluate_hand(\"JA223\") == 'three_of_a_kind'\n",
    "assert evaluate_hand(\"AA823\") == 'one_pair'\n",
    "assert evaluate_hand(\"A9823\") == 'high_card'\n",
    "\n",
    "assert evaluate_hand(\"2345A\") == \"high_card\"\n",
    "assert evaluate_hand(\"J345A\") == \"one_pair\"\n",
    "assert evaluate_hand(\"2345J\") == \"one_pair\"\n",
    "assert evaluate_hand(\"32T3K\") == \"one_pair\"\n",
    "assert evaluate_hand(\"KK677\") == \"two_pair\"\n",
    "assert evaluate_hand(\"T3Q33\") == \"three_of_a_kind\"\n",
    "assert evaluate_hand(\"Q2KJJ\") == \"three_of_a_kind\"\n",
    "assert evaluate_hand(\"T3T3J\") == \"full_house\"\n",
    "assert evaluate_hand(\"Q2Q2Q\") == \"full_house\"\n",
    "assert evaluate_hand(\"2AAAA\") == \"four_of_a_kind\"\n",
    "assert evaluate_hand(\"T55J5\") == \"four_of_a_kind\"\n",
    "assert evaluate_hand(\"QQQJA\") == \"four_of_a_kind\"\n",
    "assert evaluate_hand(\"KTJJT\") == \"four_of_a_kind\"\n",
    "assert evaluate_hand(\"JJJJJ\") == \"five_of_a_kind\"\n",
    "assert evaluate_hand(\"JJJJ2\") == \"five_of_a_kind\"\n",
    "assert evaluate_hand(\"JAAAA\") == \"five_of_a_kind\"\n",
    "assert evaluate_hand(\"2JJJJ\") == \"five_of_a_kind\"\n",
    "assert evaluate_hand(\"AAAAJ\") == \"five_of_a_kind\"\n",
    "assert evaluate_hand(\"AAAAA\") == \"five_of_a_kind\""
   ]
  },
  {
   "cell_type": "code",
   "execution_count": 188,
   "metadata": {},
   "outputs": [],
   "source": [
    "def best_hand2(hand1, hand2): # camel card version\n",
    "  for i, _ in enumerate(hand1):\n",
    "    comp = compare_card(hand1[i], hand2[i])\n",
    "    if comp != 0:\n",
    "      return comp\n",
    "  return 0\n",
    "\n",
    "def compare_hands(hand1, hand2):\n",
    "  type1 = evaluate_hand(hand1)\n",
    "  type2 = evaluate_hand(hand2)\n",
    "  \n",
    "  if type1 == type2:\n",
    "    return best_hand2(hand1, hand2)\n",
    "  else:\n",
    "    return hand_types.index(type1) - hand_types.index(type2)\n",
    "  \n",
    "# assert compare_hands(\"2345A\", \"J345A\") < 0"
   ]
  },
  {
   "cell_type": "code",
   "execution_count": 189,
   "metadata": {},
   "outputs": [],
   "source": [
    "def read_line(line):\n",
    "  parts = line.split(\" \")\n",
    "  return (parts[0], int(parts[1]))\n",
    "\n",
    "def read_hands_and_bids(text):\n",
    "  return [read_line(line) for line in text.splitlines()]\n",
    "\n",
    "def compare_hand_and_bid(hand1, hand2):\n",
    "  return compare_hands(hand1[0], hand2[0])\n",
    "\n",
    "example_hands_and_bids = read_hands_and_bids(text)\n",
    "\n",
    "result = sum([index * bid\n",
    "              for index, (_, bid) in enumerate(sorted(example_hands_and_bids, key=cmp_to_key(compare_hand_and_bid)), start=1)])\n",
    "\n",
    "assert result == 5905"
   ]
  },
  {
   "cell_type": "code",
   "execution_count": 191,
   "metadata": {},
   "outputs": [
    {
     "name": "stdout",
     "output_type": "stream",
     "text": [
      "6839\n"
     ]
    }
   ],
   "source": [
    "example_hands_and_bids2 = read_hands_and_bids(text2)\n",
    "\n",
    "result = sum([index * bid\n",
    "              for index, (_, bid) in enumerate(sorted(example_hands_and_bids2, key=cmp_to_key(compare_hand_and_bid)), start=1)])\n",
    "\n",
    "print(result)\n",
    "\n",
    "assert result == 6839"
   ]
  },
  {
   "cell_type": "code",
   "execution_count": 192,
   "metadata": {},
   "outputs": [
    {
     "name": "stdout",
     "output_type": "stream",
     "text": [
      "\u001b[32mThat's the right answer!  You are one gold star closer to restoring snow operations.You have completed Day 7! You can [Shareon\n",
      "  Twitter\n",
      "Mastodon] this victory or [Return to Your Advent Calendar].\u001b[0m\n"
     ]
    },
    {
     "data": {
      "text/plain": [
       "<urllib3.response.HTTPResponse at 0x1dea9d50970>"
      ]
     },
     "execution_count": 192,
     "metadata": {},
     "output_type": "execute_result"
    }
   ],
   "source": [
    "hands_and_bids = read_hands_and_bids(input)\n",
    "\n",
    "result = sum([index * bid\n",
    "              for index, (_, bid) in enumerate(sorted(hands_and_bids, key=cmp_to_key(compare_hand_and_bid)), start=1)])\n",
    "\n",
    "submit(answer=result, part=\"b\", day=day, year=year)"
   ]
  }
 ],
 "metadata": {
  "kernelspec": {
   "display_name": "Python 3",
   "language": "python",
   "name": "python3"
  },
  "language_info": {
   "codemirror_mode": {
    "name": "ipython",
    "version": 3
   },
   "file_extension": ".py",
   "mimetype": "text/x-python",
   "name": "python",
   "nbconvert_exporter": "python",
   "pygments_lexer": "ipython3",
   "version": "3.11.7"
  }
 },
 "nbformat": 4,
 "nbformat_minor": 2
}