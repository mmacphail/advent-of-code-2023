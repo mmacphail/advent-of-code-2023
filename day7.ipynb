{
 "cells": [
  {
   "cell_type": "code",
   "execution_count": 158,
   "metadata": {},
   "outputs": [
    {
     "data": {
      "text/plain": [
       "True"
      ]
     },
     "execution_count": 158,
     "metadata": {},
     "output_type": "execute_result"
    }
   ],
   "source": [
    "from dotenv import load_dotenv\n",
    "\n",
    "load_dotenv() # load session"
   ]
  },
  {
   "cell_type": "code",
   "execution_count": 159,
   "metadata": {},
   "outputs": [],
   "source": [
    "import re\n",
    "from functools import reduce\n",
    "from aocd import get_data, submit\n",
    "day = 7\n",
    "year = 2023\n",
    "\n",
    "input = get_data(day=day, year=year)\n",
    "\n",
    "# submit(answer=result, part=\"a\", day=day, year=year)"
   ]
  },
  {
   "cell_type": "code",
   "execution_count": 160,
   "metadata": {},
   "outputs": [],
   "source": [
    "text = \"\"\"32T3K 765\n",
    "T55J5 684\n",
    "KK677 28\n",
    "KTJJT 220\n",
    "QQQJA 483\"\"\""
   ]
  },
  {
   "cell_type": "code",
   "execution_count": 161,
   "metadata": {},
   "outputs": [],
   "source": [
    "from itertools import groupby\n",
    "\n",
    "labels = [\"A\", \"K\", \"Q\", \"J\", \"T\", \"9\", \"8\", \"7\", \"6\", \"5\", \"4\", \"3\", \"2\"]\n",
    "hand_types = ['five_of_a_kind', 'four_of_a_kind', 'full_house', 'three_of_a_kind', 'two_pair', 'one_pair', 'high_card']\n",
    "\n",
    "def highest(label1, label2):\n",
    "  return labels.index(label1) <= labels.index(label2)\n",
    "\n",
    "def highest_cards(cards):\n",
    "  return reduce(lambda card1, card2: card1 if highest(card1, card2) else card2, cards)\n",
    "\n",
    "def rest(cards, card_removed):\n",
    "  return sorted(list(cards - card_removed), key=lambda card: labels.index(card))\n",
    "\n",
    "def read_hand_type(cards):\n",
    "  three_same_label = None\n",
    "  two_same_labels = []\n",
    "\n",
    "  for label, number in sorted(cards.items(), key=lambda item: item[1], reverse=True):\n",
    "    if number == 5:\n",
    "      return ('five_of_a_kind', label)\n",
    "    elif number == 4:\n",
    "      return ('four_of_a_kind', label, rest(cards.keys(), {label}))\n",
    "    elif number == 3:\n",
    "      three_same_label = label\n",
    "    elif number == 2:\n",
    "      two_same_labels.append(label)\n",
    "    \n",
    "  if three_same_label and two_same_labels != []:\n",
    "    return ('full_house', three_same_label, two_same_labels[0])\n",
    "  elif three_same_label:\n",
    "    return ('three_of_a_kind', three_same_label, rest(cards.keys(), {three_same_label}))\n",
    "  elif two_same_labels != []:\n",
    "    if len(two_same_labels) == 2:\n",
    "      highest_pair = highest_cards(two_same_labels)\n",
    "      lowest_pair = two_same_labels[1] if highest_pair == two_same_labels[0] else two_same_labels[0]\n",
    "      return ('two_pair', highest_pair, lowest_pair, rest(cards.keys(), {lowest_pair, highest_pair}))\n",
    "    else:\n",
    "      return ('one_pair', two_same_labels[0], rest(cards.keys(), {two_same_labels[0]}))\n",
    "  else:\n",
    "    high_card = highest_cards(cards.keys())\n",
    "    return ('high_card', high_card, rest(cards.keys(), {high_card}))\n",
    "\n",
    "def read_hand(hand):\n",
    "  cards = {label: len(list(cards))\n",
    "          for label, cards in groupby(sorted(hand))}\n",
    "  type = read_hand_type(cards)\n",
    "  return (hand, type)\n",
    "\n",
    "assert read_hand(\"32T3K\") == (\"32T3K\", ('one_pair', '3', ['K', 'T', '2']))\n",
    "assert read_hand(\"T55J5\") == (\"T55J5\", ('three_of_a_kind', '5', ['J', 'T']))\n",
    "assert read_hand(\"KK677\") == (\"KK677\", ('two_pair', 'K', '7', ['6']))\n",
    "assert read_hand(\"KTJJT\") == (\"KTJJT\", ('two_pair', 'J', 'T', ['K']))\n",
    "assert read_hand(\"QQQJA\") == (\"QQQJA\", ('three_of_a_kind', 'Q', ['A', 'J']))\n",
    "\n",
    "assert read_hand(\"55555\") == (\"55555\", ('five_of_a_kind', '5'))\n",
    "assert read_hand(\"4444A\") == (\"4444A\", ('four_of_a_kind', '4', ['A']))\n",
    "assert read_hand(\"KKKQQ\") == (\"KKKQQ\", ('full_house', 'K', 'Q'))\n",
    "assert read_hand(\"AKQJT\") == (\"AKQJT\", ('high_card', 'A', ['K', 'Q', 'J', 'T']))"
   ]
  },
  {
   "cell_type": "code",
   "execution_count": 162,
   "metadata": {},
   "outputs": [
    {
     "data": {
      "text/plain": [
       "[(('32T3K', ('one_pair', '3', ['K', 'T', '2'])), 765),\n",
       " (('T55J5', ('three_of_a_kind', '5', ['J', 'T'])), 684),\n",
       " (('KK677', ('two_pair', 'K', '7', ['6'])), 28),\n",
       " (('KTJJT', ('two_pair', 'J', 'T', ['K'])), 220),\n",
       " (('QQQJA', ('three_of_a_kind', 'Q', ['A', 'J'])), 483)]"
      ]
     },
     "execution_count": 162,
     "metadata": {},
     "output_type": "execute_result"
    }
   ],
   "source": [
    "def read_line(line):\n",
    "  parts = line.split(\" \")\n",
    "  return (read_hand(parts[0]), int(parts[1]))\n",
    "\n",
    "def read_hands_and_bids(text):\n",
    "  return [read_line(line) for line in text.splitlines()]\n",
    "\n",
    "example_hands_and_bids = read_hands_and_bids(text)\n",
    "\n",
    "example_hands_and_bids"
   ]
  },
  {
   "cell_type": "code",
   "execution_count": 163,
   "metadata": {},
   "outputs": [],
   "source": [
    "def left_wins(cards1, cards2):\n",
    "  for i, _ in enumerate(cards1):\n",
    "    if highest(cards1[i], cards2[i]):\n",
    "      return True\n",
    "    elif highest(cards2[i], cards1[i]):\n",
    "      return False\n",
    "  return False\n",
    "\n",
    "def highest_hand(hand1, hand2):\n",
    "  if hand1 == hand2:\n",
    "    raise Exception(\"hands are equal\")\n",
    "\n",
    "  cards1, type1 = hand1\n",
    "  cards2, type2 = hand2\n",
    "\n",
    "  if type1[0] == type2[0]:\n",
    "    type = type1[0]\n",
    "\n",
    "    if type == 'five_of_a_kind':\n",
    "      return hand1 if highest(type1[1], type2[1]) else hand2\n",
    "    elif type == 'four_of_a_kind':\n",
    "      if type1[1] != type2[1]:\n",
    "        return hand1 if highest(type1[1], type2[1]) else hand2\n",
    "      else:\n",
    "        return hand1 if left_wins(type1[2], type2[2]) else hand2\n",
    "    elif type == 'full_house':\n",
    "      if type1[1] != type2[1]:\n",
    "        return hand1 if highest(type1[1], type2[1]) else hand2\n",
    "      else:\n",
    "        return hand1 if highest(type1[2], type2[2]) else hand2\n",
    "    elif type == 'three_of_a_kind':\n",
    "      if type1[1] != type2[1]:\n",
    "        return hand1 if highest(type1[1], type2[1]) else hand2\n",
    "      else:\n",
    "        return hand1 if left_wins(type1[2], type2[2]) else hand2\n",
    "    elif type == \"two_pair\":\n",
    "      if type1[1] != type2[1]:\n",
    "        return hand1 if highest(type1[1], type2[1]) else hand2\n",
    "      elif type1[2] != type2[2]:\n",
    "        return hand1 if highest(type1[2], type2[2]) else hand2\n",
    "      else:\n",
    "        return hand1 if left_wins(type1[3], type2[3]) else hand2\n",
    "    elif type == \"one_pair\":\n",
    "      if type1[1] != type2[1]:\n",
    "        return hand1 if highest(type1[1], type2[1]) else hand2\n",
    "      else:\n",
    "        return hand1 if left_wins(type1[2], type2[2]) else hand2\n",
    "    elif type == \"high_card\":\n",
    "      return hand1 if left_wins(type1[1], type2[1]) else hand2\n",
    "  else:\n",
    "    return hand1 if hand_types.index(type1[0]) < hand_types.index(type2[0]) else hand2\n",
    "\n",
    "assert highest_hand(read_hand(\"KKKKK\"), read_hand(\"34567\")) == read_hand(\"KKKKK\")\n",
    "assert highest_hand(read_hand(\"KKKKK\"), read_hand(\"QQQQQ\")) == read_hand(\"KKKKK\")\n",
    "assert highest_hand(read_hand(\"KKKKK\"), read_hand(\"QQQQJ\")) == read_hand(\"KKKKK\")\n",
    "assert highest_hand(read_hand(\"KKKK2\"), read_hand(\"QQQQJ\")) == read_hand(\"KKKK2\")\n",
    "assert highest_hand(read_hand(\"KKKK2\"), read_hand(\"KKKK3\")) == read_hand(\"KKKK3\")\n",
    "assert highest_hand(read_hand(\"KKKA5\"), read_hand(\"QQQA5\")) == read_hand(\"KKKA5\")\n",
    "assert highest_hand(read_hand(\"KKK23\"), read_hand(\"KKK43\")) == read_hand(\"KKK43\")\n",
    "assert highest_hand(read_hand(\"88552\"), read_hand(\"22334\")) == read_hand(\"88552\")\n",
    "assert highest_hand(read_hand(\"33552\"), read_hand(\"22334\")) == read_hand(\"33552\")\n",
    "assert highest_hand(read_hand(\"55442\"), read_hand(\"5544A\")) == read_hand(\"5544A\")\n",
    "assert highest_hand(read_hand(\"33QKJ\"), read_hand(\"22QKJ\")) == read_hand(\"33QKJ\")\n",
    "assert highest_hand(read_hand(\"33QKJ\"), read_hand(\"33A52\")) == read_hand(\"33A52\")\n",
    "assert highest_hand(read_hand(\"23456\"), read_hand(\"34567\")) == read_hand(\"34567\")"
   ]
  },
  {
   "cell_type": "code",
   "execution_count": 178,
   "metadata": {},
   "outputs": [],
   "source": [
    "def left_higher_than(hand1, hand2):\n",
    "  return highest_hand(hand1, hand2) == hand1\n",
    "\n",
    "assert left_higher_than(read_hand(\"KKKKK\"), read_hand(\"34567\")) == True"
   ]
  },
  {
   "cell_type": "code",
   "execution_count": 186,
   "metadata": {},
   "outputs": [],
   "source": [
    "from functools import cmp_to_key\n",
    "\n",
    "def compare_hand_and_bid(hand_and_bid1, hand_and_bid2):\n",
    "  if sorted(hand_and_bid1[0][0]) == sorted(hand_and_bid2[0][0]):\n",
    "    return 0\n",
    "  if left_higher_than(hand_and_bid1[0], hand_and_bid2[0]):\n",
    "    return -1\n",
    "  else:\n",
    "    return 1\n",
    "\n",
    "example_hands_and_bids.sort(key=cmp_to_key(compare_hand_and_bid), reverse=True)\n",
    "\n",
    "winnings = [(rank * bid) for rank, (hand, bid) in enumerate(example_hands_and_bids, 1)]\n",
    "\n",
    "assert sum(winnings) == 6440"
   ]
  },
  {
   "cell_type": "code",
   "execution_count": 192,
   "metadata": {},
   "outputs": [
    {
     "name": "stderr",
     "output_type": "stream",
     "text": [
      "wrong answer: That's not the right answer; your answer is too low.  If you're stuck, make sure you're using the full input data; there are also some general tips on the about page, or you can ask for hints on the subreddit.  Please wait one minute before trying again. [Return to Day 7]\n"
     ]
    },
    {
     "name": "stdout",
     "output_type": "stream",
     "text": [
      "\u001b[31mThat's not the right answer; your answer is too low.  If you're stuck, make sure you're using the full input data; there are also some general tips on the about page, or you can ask for hints on the subreddit.  Please wait one minute before trying again. [Return to Day 7]\u001b[0m\n"
     ]
    },
    {
     "data": {
      "text/plain": [
       "<urllib3.response.HTTPResponse at 0x20bf890b5e0>"
      ]
     },
     "execution_count": 192,
     "metadata": {},
     "output_type": "execute_result"
    }
   ],
   "source": [
    "hands_and_bids = read_hands_and_bids(input)\n",
    "\n",
    "example_hands_and_bids.sort(key=cmp_to_key(compare_hand_and_bid), reverse=True)\n",
    "\n",
    "winnings = [(rank * bid) for rank, (hand, bid) in enumerate(hands_and_bids, 1)]\n",
    "\n",
    "result = sum(winnings)\n",
    "\n",
    "submit(answer=result, part=\"a\", day=day, year=year)"
   ]
  },
  {
   "cell_type": "code",
   "execution_count": null,
   "metadata": {},
   "outputs": [],
   "source": []
  }
 ],
 "metadata": {
  "kernelspec": {
   "display_name": "Python 3",
   "language": "python",
   "name": "python3"
  },
  "language_info": {
   "codemirror_mode": {
    "name": "ipython",
    "version": 3
   },
   "file_extension": ".py",
   "mimetype": "text/x-python",
   "name": "python",
   "nbconvert_exporter": "python",
   "pygments_lexer": "ipython3",
   "version": "3.11.7"
  }
 },
 "nbformat": 4,
 "nbformat_minor": 2
}
