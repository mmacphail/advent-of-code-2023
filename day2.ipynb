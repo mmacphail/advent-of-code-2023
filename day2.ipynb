{
 "cells": [
  {
   "cell_type": "code",
   "execution_count": 90,
   "metadata": {},
   "outputs": [
    {
     "data": {
      "text/plain": [
       "True"
      ]
     },
     "execution_count": 90,
     "metadata": {},
     "output_type": "execute_result"
    }
   ],
   "source": [
    "import os\n",
    "from dotenv import load_dotenv\n",
    "\n",
    "load_dotenv() # load session"
   ]
  },
  {
   "cell_type": "code",
   "execution_count": 91,
   "metadata": {},
   "outputs": [],
   "source": [
    "from aocd import get_data\n",
    "day = 2\n",
    "year = 2023\n",
    "\n",
    "input = get_data(day=day, year=year)"
   ]
  },
  {
   "cell_type": "code",
   "execution_count": 92,
   "metadata": {},
   "outputs": [],
   "source": [
    "import re\n",
    "\n",
    "def read_cubes(cubes):\n",
    "  match = re.match(r'(\\d+)\\s+(\\w+)', cubes)\n",
    "  return (match.group(2), int(match.group(1)))\n",
    "\n",
    "def read_hand(hand):\n",
    "  return [read_cubes(cubes)\n",
    "          for cubes in hand.split(\", \")]\n",
    "          \n",
    "def read_game(game):\n",
    "  game_elements = game.split(\": \")\n",
    "  game_id = re.search(r'\\d+', game_elements[0]).group()\n",
    "  shown_cubes = [read_hand(hand)\n",
    "                 for hand in game_elements[1].split(\"; \")]\n",
    "  return {\"game_id\": int(game_id), \"shown_cubes\": shown_cubes}\n",
    "\n",
    "def read_all_games(input):\n",
    "  return [read_game(game) for game in input.splitlines()]"
   ]
  },
  {
   "cell_type": "code",
   "execution_count": 93,
   "metadata": {},
   "outputs": [],
   "source": [
    "bag = {\n",
    "  \"red\": 12,\n",
    "  \"green\": 13,\n",
    "  \"blue\": 14\n",
    "}\n",
    "\n",
    "def is_game_possible(game):\n",
    "  for hand in game[\"shown_cubes\"]:\n",
    "    for (color, number) in hand:\n",
    "      if number > bag[color]:\n",
    "        return False\n",
    "  return True\n",
    "\n",
    "assert is_game_possible(read_game('Game 1: 3 blue, 4 red; 1 red, 2 green, 6 blue; 2 green'))\n",
    "assert is_game_possible(read_game('Game 2: 1 blue, 2 green; 3 green, 4 blue, 1 red; 1 green, 1 blue'))\n",
    "assert is_game_possible(read_game('Game 3: 8 green, 6 blue, 20 red; 5 blue, 4 red, 13 green; 5 green, 1 red')) == False\n",
    "assert is_game_possible(read_game('Game 4: 1 green, 3 red, 6 blue; 3 green, 6 red; 3 green, 15 blue, 14 red')) == False\n",
    "assert is_game_possible(read_game('Game 5: 6 red, 1 blue, 3 green; 2 blue, 1 red, 2 green'))"
   ]
  },
  {
   "cell_type": "code",
   "execution_count": 94,
   "metadata": {},
   "outputs": [
    {
     "name": "stdout",
     "output_type": "stream",
     "text": [
      "Part a already solved with same answer: 2685\n"
     ]
    }
   ],
   "source": [
    "from aocd import submit\n",
    "\n",
    "answer = sum(game[\"game_id\"]\n",
    "            for game in read_all_games(input)\n",
    "            if is_game_possible(game))\n",
    "\n",
    "submit(answer, part=\"a\", day=day, year=year)"
   ]
  },
  {
   "cell_type": "code",
   "execution_count": 95,
   "metadata": {},
   "outputs": [],
   "source": [
    "from itertools import groupby\n",
    "\n",
    "colors = [\"blue\", \"red\", \"green\"]\n",
    "\n",
    "def get_max_cubes_by_color(game):\n",
    "  game_colors = [(number, color)\n",
    "                 for hand in game[\"shown_cubes\"]\n",
    "                 for color in colors\n",
    "                 for (cube_color, number) in hand if cube_color == color]\n",
    "\n",
    "  game_colors.sort(key=lambda x: x[1])\n",
    "\n",
    "  return {color: max(numbers, key=lambda x: x[0])[0]\n",
    "          for color, numbers in groupby(game_colors, key=lambda x: x[1])}\n",
    "  \n",
    "assert {'blue': 6, 'green': 2, 'red': 4}   == get_max_cubes_by_color(read_game(\"Game 1: 3 blue, 4 red; 1 red, 2 green, 6 blue; 2 green\"))\n",
    "assert {'blue': 4, 'green': 3, 'red': 1}   == get_max_cubes_by_color(read_game(\"Game 2: 1 blue, 2 green; 3 green, 4 blue, 1 red; 1 green, 1 blue\"))\n",
    "assert {'blue': 6, 'green': 13, 'red': 20} == get_max_cubes_by_color(read_game(\"Game 3: 8 green, 6 blue, 20 red; 5 blue, 4 red, 13 green; 5 green, 1 red\"))\n",
    "assert {'blue': 15, 'green': 3, 'red': 14} == get_max_cubes_by_color(read_game(\"Game 4: 1 green, 3 red, 6 blue; 3 green, 6 red; 3 green, 15 blue, 14 red\"))\n",
    "assert {'blue': 2, 'green': 3, 'red': 6}   == get_max_cubes_by_color(read_game(\"Game 5: 6 red, 1 blue, 3 green; 2 blue, 1 red, 2 green\"))"
   ]
  },
  {
   "cell_type": "code",
   "execution_count": 96,
   "metadata": {},
   "outputs": [],
   "source": [
    "from functools import reduce\n",
    "\n",
    "def power(cubes):\n",
    "  return reduce(lambda x, y: x * y, cubes.values())\n",
    "\n",
    "assert power({'blue': 6, 'green': 2, 'red': 4}) == 48\n",
    "assert power({'blue': 4, 'green': 3, 'red': 1}) == 12\n",
    "assert power({'blue': 6, 'green': 13, 'red': 20}) == 1560\n",
    "assert power({'blue': 15, 'green': 3, 'red': 14}) == 630\n",
    "assert power({'blue': 2, 'green': 3, 'red': 6}) == 36"
   ]
  },
  {
   "cell_type": "code",
   "execution_count": 97,
   "metadata": {},
   "outputs": [
    {
     "name": "stdout",
     "output_type": "stream",
     "text": [
      "Part b already solved with same answer: 83707\n"
     ]
    }
   ],
   "source": [
    "from aocd import submit\n",
    "\n",
    "answer = sum([power(get_max_cubes_by_color(game))\n",
    "              for game in read_all_games(input)])\n",
    "\n",
    "submit(answer, part=\"b\", day=day, year=year)"
   ]
  }
 ],
 "metadata": {
  "kernelspec": {
   "display_name": "Python 3",
   "language": "python",
   "name": "python3"
  },
  "language_info": {
   "codemirror_mode": {
    "name": "ipython",
    "version": 3
   },
   "file_extension": ".py",
   "mimetype": "text/x-python",
   "name": "python",
   "nbconvert_exporter": "python",
   "pygments_lexer": "ipython3",
   "version": "3.11.6"
  }
 },
 "nbformat": 4,
 "nbformat_minor": 2
}
