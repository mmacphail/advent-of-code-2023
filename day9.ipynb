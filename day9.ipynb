{
 "cells": [
  {
   "cell_type": "code",
   "execution_count": 1,
   "metadata": {},
   "outputs": [
    {
     "data": {
      "text/plain": [
       "True"
      ]
     },
     "execution_count": 1,
     "metadata": {},
     "output_type": "execute_result"
    }
   ],
   "source": [
    "from dotenv import load_dotenv\n",
    "\n",
    "load_dotenv() # load session"
   ]
  },
  {
   "cell_type": "code",
   "execution_count": 2,
   "metadata": {},
   "outputs": [],
   "source": [
    "import re\n",
    "from functools import reduce\n",
    "import operator\n",
    "from aocd import get_data, submit\n",
    "day = 9\n",
    "year = 2023\n",
    "\n",
    "input = get_data(day=day, year=year)\n",
    "\n",
    "# submit(answer=result, part=\"a\", day=day, year=year)"
   ]
  },
  {
   "cell_type": "code",
   "execution_count": 3,
   "metadata": {},
   "outputs": [
    {
     "data": {
      "text/plain": [
       "[[0, 3, 6, 9, 12, 15], [1, 3, 6, 10, 15, 21], [10, 13, 16, 21, 30, 45]]"
      ]
     },
     "execution_count": 3,
     "metadata": {},
     "output_type": "execute_result"
    }
   ],
   "source": [
    "text = \"\"\"0 3 6 9 12 15\n",
    "1 3 6 10 15 21\n",
    "10 13 16 21 30 45\"\"\"\n",
    "\n",
    "def read_histories(text):\n",
    "  return [[int(x) for x in line.split(\" \")]\n",
    "          for line in text.splitlines()]\n",
    "\n",
    "read_histories(text)"
   ]
  },
  {
   "cell_type": "code",
   "execution_count": 13,
   "metadata": {},
   "outputs": [],
   "source": [
    "def find_next_value(history):\n",
    "  def _find_next_value(first_history, history, sequences=[]):\n",
    "    differences = []\n",
    "    for i in range(1, len(history)):\n",
    "      differences.append(history[i] - history[i-1])\n",
    "    if all(diff == 0 for diff in differences):\n",
    "      sequences.reverse()\n",
    "      last_of_last_seq = 0\n",
    "      for seq in sequences:\n",
    "        last_of_last_seq = seq[-1] + last_of_last_seq\n",
    "      return first_history[-1] + last_of_last_seq\n",
    "    else:\n",
    "      sequences.append(differences)\n",
    "      return _find_next_value(first_history, differences, sequences)\n",
    "  \n",
    "  return _find_next_value(history, history)\n",
    "  \n",
    "example_histories = read_histories(text)\n",
    "\n",
    "assert find_next_value(example_histories[0]) == 18\n",
    "assert find_next_value(example_histories[1]) == 28\n",
    "assert find_next_value(example_histories[2]) == 68"
   ]
  },
  {
   "cell_type": "code",
   "execution_count": 14,
   "metadata": {},
   "outputs": [],
   "source": [
    "assert sum([find_next_value(history) \n",
    "            for history in example_histories]) == 114"
   ]
  },
  {
   "cell_type": "code",
   "execution_count": 15,
   "metadata": {},
   "outputs": [
    {
     "name": "stdout",
     "output_type": "stream",
     "text": [
      "aocd will not submit that answer again. At 2023-12-09 02:58:04.315711-05:00 you've previously submitted 1930746032 and the server responded with:\n",
      "\u001b[32mThat's the right answer!  You are one gold star closer to restoring snow operations. [Continue to Part Two]\u001b[0m\n"
     ]
    }
   ],
   "source": [
    "histories = read_histories(input)\n",
    "\n",
    "result = sum([find_next_value(history) \n",
    "            for history in histories])\n",
    "\n",
    "submit(answer=result, part=\"a\", day=day, year=year)"
   ]
  },
  {
   "cell_type": "code",
   "execution_count": 17,
   "metadata": {},
   "outputs": [],
   "source": [
    "def find_previous_value(history):\n",
    "  def _find_previous_value(first_history, history, sequences=[]):\n",
    "    differences = []\n",
    "    for i in range(1, len(history)):\n",
    "      differences.append(history[i] - history[i-1])\n",
    "    if all(diff == 0 for diff in differences):\n",
    "      sequences.reverse()\n",
    "      previous_of_last_seq = 0\n",
    "      for seq in sequences:\n",
    "        previous_of_last_seq = seq[0] - previous_of_last_seq\n",
    "      return first_history[0] - previous_of_last_seq\n",
    "    else:\n",
    "      sequences.append(differences)\n",
    "      return _find_previous_value(first_history, differences, sequences)\n",
    "  \n",
    "  return _find_previous_value(history, history)\n",
    "\n",
    "assert find_previous_value(example_histories[2]) == 5"
   ]
  },
  {
   "cell_type": "code",
   "execution_count": 18,
   "metadata": {},
   "outputs": [
    {
     "name": "stdout",
     "output_type": "stream",
     "text": [
      "\u001b[32mThat's the right answer!  You are one gold star closer to restoring snow operations.You have completed Day 9! You can [Shareon\n",
      "  Twitter\n",
      "Mastodon] this victory or [Return to Your Advent Calendar].\u001b[0m\n"
     ]
    },
    {
     "data": {
      "text/plain": [
       "<urllib3.response.HTTPResponse at 0x17180375fc0>"
      ]
     },
     "execution_count": 18,
     "metadata": {},
     "output_type": "execute_result"
    }
   ],
   "source": [
    "result = sum([find_previous_value(history) \n",
    "            for history in histories])\n",
    "\n",
    "submit(answer=result, part=\"b\", day=day, year=year)"
   ]
  },
  {
   "cell_type": "code",
   "execution_count": null,
   "metadata": {},
   "outputs": [],
   "source": []
  }
 ],
 "metadata": {
  "kernelspec": {
   "display_name": "Python 3",
   "language": "python",
   "name": "python3"
  },
  "language_info": {
   "codemirror_mode": {
    "name": "ipython",
    "version": 3
   },
   "file_extension": ".py",
   "mimetype": "text/x-python",
   "name": "python",
   "nbconvert_exporter": "python",
   "pygments_lexer": "ipython3",
   "version": "3.11.7"
  }
 },
 "nbformat": 4,
 "nbformat_minor": 2
}
