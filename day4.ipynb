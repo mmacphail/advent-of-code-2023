{
 "cells": [
  {
   "cell_type": "code",
   "execution_count": 43,
   "metadata": {},
   "outputs": [
    {
     "data": {
      "text/plain": [
       "True"
      ]
     },
     "execution_count": 43,
     "metadata": {},
     "output_type": "execute_result"
    }
   ],
   "source": [
    "import os\n",
    "from dotenv import load_dotenv\n",
    "\n",
    "load_dotenv() # load session"
   ]
  },
  {
   "cell_type": "code",
   "execution_count": 44,
   "metadata": {},
   "outputs": [],
   "source": [
    "from aocd import get_data, submit\n",
    "day = 4\n",
    "year = 2023\n",
    "\n",
    "input = get_data(day=day, year=year)\n",
    "\n",
    "# submit(answer=result, part=\"a\", day=day, year=year)"
   ]
  },
  {
   "cell_type": "code",
   "execution_count": 45,
   "metadata": {},
   "outputs": [],
   "source": [
    "def read_scractchcard(line):\n",
    "  scracthcard_parts = line.split(\": \")\n",
    "  scracthcard_id = int(scracthcard_parts[0].replace(\"Card \", \"\"))\n",
    "  scracthcard_numbers = scracthcard_parts[1].split(\" | \")\n",
    "  def parse_number_list(x):\n",
    "    return set([int(x[i:i+3].strip()) for i in range(0, len(x), 3)])\n",
    "  winning_numbers = parse_number_list(scracthcard_numbers[0])\n",
    "  numbers_i_have = parse_number_list(scracthcard_numbers[1])\n",
    "  return (scracthcard_id, winning_numbers, numbers_i_have)"
   ]
  },
  {
   "cell_type": "code",
   "execution_count": 46,
   "metadata": {},
   "outputs": [],
   "source": [
    "def get_my_winning_numbers(scracthcard):\n",
    "  (_, winning_numbers, numbers_i_have) = scracthcard\n",
    "  return winning_numbers & numbers_i_have\n",
    "\n",
    "assert get_my_winning_numbers(read_scractchcard(\"Card 1: 41 48 83 86 17 | 83 86  6 31 17  9 48 53\")) == {48, 83, 17, 86}\n",
    "assert get_my_winning_numbers(read_scractchcard(\"Card 2: 13 32 20 16 61 | 61 30 68 82 17 32 24 19\")) == {32, 61}\n",
    "assert get_my_winning_numbers(read_scractchcard(\"Card 3:  1 21 53 59 44 | 69 82 63 72 16 21 14  1\")) == {1, 21}\n",
    "assert get_my_winning_numbers(read_scractchcard(\"Card 4: 41 92 73 84 69 | 59 84 76 51 58  5 54 83\")) == {84}\n",
    "assert get_my_winning_numbers(read_scractchcard(\"Card 5: 87 83 26 28 32 | 88 30 70 12 93 22 82 36\")) == set()\n",
    "assert get_my_winning_numbers(read_scractchcard(\"Card 6: 31 18 13 56 72 | 74 77 10 23 35 67 36 11\")) == set()"
   ]
  },
  {
   "cell_type": "code",
   "execution_count": 47,
   "metadata": {},
   "outputs": [],
   "source": [
    "def scracthcard_points(scracthcard):\n",
    "  winning_numbers = get_my_winning_numbers(scracthcard)\n",
    "  if winning_numbers == set():\n",
    "    return 0\n",
    "  return 2 ** (len(winning_numbers) - 1)\n",
    "\n",
    "assert scracthcard_points(read_scractchcard(\"Card 1: 41 48 83 86 17 | 83 86  6 31 17  9 48 53\")) == 8\n",
    "assert scracthcard_points(read_scractchcard(\"Card 2: 13 32 20 16 61 | 61 30 68 82 17 32 24 19\")) == 2\n",
    "assert scracthcard_points(read_scractchcard(\"Card 3:  1 21 53 59 44 | 69 82 63 72 16 21 14  1\")) == 2\n",
    "assert scracthcard_points(read_scractchcard(\"Card 4: 41 92 73 84 69 | 59 84 76 51 58  5 54 83\")) == 1\n",
    "assert scracthcard_points(read_scractchcard(\"Card 5: 87 83 26 28 32 | 88 30 70 12 93 22 82 36\")) == 0\n",
    "assert scracthcard_points(read_scractchcard(\"Card 6: 31 18 13 56 72 | 74 77 10 23 35 67 36 11\")) == 0"
   ]
  },
  {
   "cell_type": "code",
   "execution_count": 48,
   "metadata": {},
   "outputs": [],
   "source": [
    "text = \"\"\"Card 1: 41 48 83 86 17 | 83 86  6 31 17  9 48 53\n",
    "Card 2: 13 32 20 16 61 | 61 30 68 82 17 32 24 19\n",
    "Card 3:  1 21 53 59 44 | 69 82 63 72 16 21 14  1\n",
    "Card 4: 41 92 73 84 69 | 59 84 76 51 58  5 54 83\n",
    "Card 5: 87 83 26 28 32 | 88 30 70 12 93 22 82 36\n",
    "Card 6: 31 18 13 56 72 | 74 77 10 23 35 67 36 11\"\"\"\n",
    "\n",
    "def read_scractchcards(text):\n",
    "  return [read_scractchcard(line) for line in text.splitlines()]\n",
    "\n",
    "assert sum(scracthcard_points(scracthcard) for scracthcard in read_scractchcards(text)) == 13"
   ]
  },
  {
   "cell_type": "code",
   "execution_count": 52,
   "metadata": {},
   "outputs": [
    {
     "name": "stdout",
     "output_type": "stream",
     "text": [
      "\u001b[32mThat's the right answer!  You are one gold star closer to restoring snow operations. [Continue to Part Two]\u001b[0m\n"
     ]
    },
    {
     "data": {
      "text/plain": [
       "<urllib3.response.HTTPResponse at 0x284bc937370>"
      ]
     },
     "execution_count": 52,
     "metadata": {},
     "output_type": "execute_result"
    }
   ],
   "source": [
    "result = sum(scracthcard_points(scracthcard) for scracthcard in read_scractchcards(input))\n",
    "\n",
    "submit(answer=result, part=\"a\", day=day, year=year)"
   ]
  },
  {
   "cell_type": "code",
   "execution_count": 69,
   "metadata": {},
   "outputs": [],
   "source": [
    "original_scractchards = read_scractchcards(text)\n",
    "\n",
    "def go_through_all_copies(all_scractchcards, scracthcards):\n",
    "  visited_cards = 0\n",
    "  for scracthcard in scracthcards:\n",
    "    visited_cards += 1\n",
    "    winning_numbers = get_my_winning_numbers(scracthcard)\n",
    "    if winning_numbers != set():\n",
    "      copies_won = [all_scractchcards[scracthcard[0] + i] for i in range(0, len(winning_numbers))]\n",
    "      visited_cards += go_through_all_copies(all_scractchcards, copies_won)\n",
    "  return visited_cards\n",
    "\n",
    "assert go_through_all_copies(original_scractchards, original_scractchards) == 30"
   ]
  },
  {
   "cell_type": "code",
   "execution_count": 72,
   "metadata": {},
   "outputs": [
    {
     "name": "stdout",
     "output_type": "stream",
     "text": [
      "\u001b[32mThat's the right answer!  You are one gold star closer to restoring snow operations.You have completed Day 4! You can [Shareon\n",
      "  Twitter\n",
      "Mastodon] this victory or [Return to Your Advent Calendar].\u001b[0m\n"
     ]
    },
    {
     "data": {
      "text/plain": [
       "<urllib3.response.HTTPResponse at 0x284bc9dbbb0>"
      ]
     },
     "execution_count": 72,
     "metadata": {},
     "output_type": "execute_result"
    }
   ],
   "source": [
    "original_scractchards = read_scractchcards(input)\n",
    "\n",
    "result = go_through_all_copies(original_scractchards, original_scractchards)\n",
    "\n",
    "submit(answer=result, part=\"b\", day=day, year=year)"
   ]
  }
 ],
 "metadata": {
  "kernelspec": {
   "display_name": "Python 3",
   "language": "python",
   "name": "python3"
  },
  "language_info": {
   "codemirror_mode": {
    "name": "ipython",
    "version": 3
   },
   "file_extension": ".py",
   "mimetype": "text/x-python",
   "name": "python",
   "nbconvert_exporter": "python",
   "pygments_lexer": "ipython3",
   "version": "3.11.6"
  }
 },
 "nbformat": 4,
 "nbformat_minor": 2
}
