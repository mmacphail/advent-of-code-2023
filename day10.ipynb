{
 "cells": [
  {
   "cell_type": "code",
   "execution_count": 60,
   "metadata": {},
   "outputs": [
    {
     "data": {
      "text/plain": [
       "True"
      ]
     },
     "execution_count": 60,
     "metadata": {},
     "output_type": "execute_result"
    }
   ],
   "source": [
    "from dotenv import load_dotenv\n",
    "\n",
    "load_dotenv() # load session"
   ]
  },
  {
   "cell_type": "code",
   "execution_count": 61,
   "metadata": {},
   "outputs": [],
   "source": [
    "import re\n",
    "from functools import reduce\n",
    "import operator\n",
    "from aocd import get_data, submit\n",
    "day = 10\n",
    "year = 2023\n",
    "\n",
    "input = get_data(day=day, year=year)\n",
    "\n",
    "# submit(answer=result, part=\"a\", day=day, year=year)"
   ]
  },
  {
   "cell_type": "code",
   "execution_count": 62,
   "metadata": {},
   "outputs": [
    {
     "name": "stdout",
     "output_type": "stream",
     "text": [
      "7-F7-\n",
      ".FJ|7\n",
      "SJLL7\n",
      "|F--J\n",
      "LJ.LJ\n"
     ]
    }
   ],
   "source": [
    "example_text = '''7-F7-\n",
    ".FJ|7\n",
    "SJLL7\n",
    "|F--J\n",
    "LJ.LJ'''\n",
    "\n",
    "print(example_text)"
   ]
  },
  {
   "cell_type": "code",
   "execution_count": 63,
   "metadata": {},
   "outputs": [
    {
     "data": {
      "text/plain": [
       "(2, 0)"
      ]
     },
     "execution_count": 63,
     "metadata": {},
     "output_type": "execute_result"
    }
   ],
   "source": [
    "example_lines = example_text.splitlines()\n",
    "\n",
    "def find_starting_position(lines):\n",
    "  for l, line in enumerate(lines):\n",
    "    c = line.find(\"S\")\n",
    "    if c != -1:\n",
    "      return l, c\n",
    "  raise Exception(\"No starting position found\")\n",
    "\n",
    "example_starting_position = find_starting_position(example_lines)\n",
    "\n",
    "example_starting_position"
   ]
  },
  {
   "cell_type": "code",
   "execution_count": 76,
   "metadata": {},
   "outputs": [],
   "source": [
    "possible_connections = {\n",
    "  \"|\": [(1, 0), (-1, 0)],\n",
    "  \"-\": [(0, 1), (0, -1)],\n",
    "  \"L\": [(-1, 0), (0, 1)],\n",
    "  \"J\": [(-1, 0), (0, -1)],\n",
    "  \"7\": [(1, 0), (0, -1)],\n",
    "  \"F\": [(1, 0), (0, 1)],\n",
    "  \".\": [],\n",
    "  \"S\": [(1, 0), (0, 1), (-1, 0), (0, -1)]\n",
    "}\n",
    "\n",
    "def is_in_bounds(lines, position):\n",
    "  l, c = position\n",
    "  return l >= 0 and l < len(lines) and c >= 0 and c < len(lines[l])\n",
    "\n",
    "def find_connected_pipes(lines, location):\n",
    "  l, c = location\n",
    "  connected_pipes = []\n",
    "  for connection in possible_connections[lines[l][c]]:\n",
    "    connection_l, connection_c = (connection[0] + l, connection[1] + c)\n",
    "    if is_in_bounds(lines, (connection_l, connection_c)):\n",
    "      connection_symbol = lines[connection_l][connection_c]\n",
    "      symbol_possible_connections = possible_connections[connection_symbol]\n",
    "      for symbol_connection_l, symbol_connection_c in symbol_possible_connections:\n",
    "        if (connection_l + symbol_connection_l, connection_c + symbol_connection_c) == (l, c):\n",
    "          connected_pipes.append((connection_l, connection_c))\n",
    "  return connected_pipes\n",
    "\n",
    "assert set(find_connected_pipes(example_lines, example_starting_position)) == set([(3, 0), (2, 1)])"
   ]
  },
  {
   "cell_type": "code",
   "execution_count": 89,
   "metadata": {},
   "outputs": [],
   "source": [
    "def find_farthest_pipe(lines):\n",
    "  starting_position = find_starting_position(lines)\n",
    "  connected_pipes = find_connected_pipes(lines, starting_position)\n",
    "  if len(connected_pipes) != 2:\n",
    "    raise Exception(\"Starting position has to be connected to exactly two pipes\")\n",
    "  \n",
    "  path1 = connected_pipes[0]\n",
    "  path2 = connected_pipes[1]\n",
    "  visited_pipes = set([starting_position, path1, path2])\n",
    "  steps = 0\n",
    "  \n",
    "  while True:\n",
    "    path1_connection = [connection for connection in find_connected_pipes(lines, path1) if not connection in visited_pipes]\n",
    "    path2_connection = [connection for connection in find_connected_pipes(lines, path2) if not connection in visited_pipes]\n",
    "\n",
    "    if path1_connection == [] and path2_connection == []:\n",
    "      break\n",
    "\n",
    "    if path1_connection != []:\n",
    "      path1 = path1_connection[0]\n",
    "      visited_pipes.add(path1)\n",
    "    \n",
    "    if path2_connection != []:\n",
    "      path2 = path2_connection[0]\n",
    "      visited_pipes.add(path2)\n",
    "\n",
    "    steps += 1\n",
    "  \n",
    "  return steps + 1\n",
    "\n",
    "assert find_farthest_pipe(example_lines) == 8"
   ]
  },
  {
   "cell_type": "code",
   "execution_count": 90,
   "metadata": {},
   "outputs": [
    {
     "name": "stdout",
     "output_type": "stream",
     "text": [
      "\u001b[32mThat's the right answer!  You are one gold star closer to restoring snow operations. [Continue to Part Two]\u001b[0m\n"
     ]
    },
    {
     "data": {
      "text/plain": [
       "<urllib3.response.HTTPResponse at 0x22656bc04f0>"
      ]
     },
     "execution_count": 90,
     "metadata": {},
     "output_type": "execute_result"
    }
   ],
   "source": [
    "result = find_farthest_pipe(input.splitlines())\n",
    "\n",
    "submit(answer=result, part=\"a\", day=day, year=year)"
   ]
  },
  {
   "cell_type": "code",
   "execution_count": null,
   "metadata": {},
   "outputs": [],
   "source": []
  }
 ],
 "metadata": {
  "kernelspec": {
   "display_name": "Python 3",
   "language": "python",
   "name": "python3"
  },
  "language_info": {
   "codemirror_mode": {
    "name": "ipython",
    "version": 3
   },
   "file_extension": ".py",
   "mimetype": "text/x-python",
   "name": "python",
   "nbconvert_exporter": "python",
   "pygments_lexer": "ipython3",
   "version": "3.11.7"
  }
 },
 "nbformat": 4,
 "nbformat_minor": 2
}
