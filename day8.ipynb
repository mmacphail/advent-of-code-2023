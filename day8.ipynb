{
 "cells": [
  {
   "cell_type": "code",
   "execution_count": 1,
   "metadata": {},
   "outputs": [
    {
     "data": {
      "text/plain": [
       "True"
      ]
     },
     "execution_count": 1,
     "metadata": {},
     "output_type": "execute_result"
    }
   ],
   "source": [
    "from dotenv import load_dotenv\n",
    "\n",
    "load_dotenv() # load session"
   ]
  },
  {
   "cell_type": "code",
   "execution_count": 2,
   "metadata": {},
   "outputs": [],
   "source": [
    "import re\n",
    "from functools import reduce\n",
    "import operator\n",
    "from aocd import get_data, submit\n",
    "day = 8\n",
    "year = 2023\n",
    "\n",
    "input = get_data(day=day, year=year)\n",
    "\n",
    "# submit(answer=result, part=\"a\", day=day, year=year)"
   ]
  },
  {
   "cell_type": "code",
   "execution_count": 3,
   "metadata": {},
   "outputs": [
    {
     "data": {
      "text/plain": [
       "('RL',\n",
       " {'AAA': ('BBB', 'CCC'),\n",
       "  'BBB': ('DDD', 'EEE'),\n",
       "  'CCC': ('ZZZ', 'GGG'),\n",
       "  'DDD': ('DDD', 'DDD'),\n",
       "  'EEE': ('EEE', 'EEE'),\n",
       "  'GGG': ('GGG', 'GGG'),\n",
       "  'ZZZ': ('ZZZ', 'ZZZ')})"
      ]
     },
     "execution_count": 3,
     "metadata": {},
     "output_type": "execute_result"
    }
   ],
   "source": [
    "text = \"\"\"RL\n",
    "\n",
    "AAA = (BBB, CCC)\n",
    "BBB = (DDD, EEE)\n",
    "CCC = (ZZZ, GGG)\n",
    "DDD = (DDD, DDD)\n",
    "EEE = (EEE, EEE)\n",
    "GGG = (GGG, GGG)\n",
    "ZZZ = (ZZZ, ZZZ)\"\"\"\n",
    "\n",
    "def read_map(input):\n",
    "  path = \"\"\n",
    "  \n",
    "  vertices = {}\n",
    "\n",
    "  for i, line in enumerate(input.splitlines()):\n",
    "    if i == 0:\n",
    "      path = line\n",
    "    elif line.strip() != \"\":\n",
    "      parts = line.split(\" = \")\n",
    "      origin = parts[0]\n",
    "      lr = parts[1].split(\", \")\n",
    "      left = lr[0][1:]\n",
    "      right = lr[1][0:-1]\n",
    "      vertices[origin] = (left, right)\n",
    "  return (path, vertices)\n",
    "\n",
    "map = read_map(text)\n",
    "\n",
    "map"
   ]
  },
  {
   "cell_type": "code",
   "execution_count": 4,
   "metadata": {},
   "outputs": [],
   "source": [
    "def follow_path(map):\n",
    "  path, vertices = map\n",
    "  nodes_visited = 0\n",
    "  path_index = 0\n",
    "  current_node = 'AAA'\n",
    "  while current_node != \"ZZZ\":\n",
    "    next_node = vertices[current_node][0 if path[path_index] == \"L\" else 1]\n",
    "    current_node = next_node\n",
    "    if path_index == len(path) - 1:\n",
    "      path_index = 0\n",
    "    else:\n",
    "      path_index += 1\n",
    "    nodes_visited += 1\n",
    "  return nodes_visited\n",
    "\n",
    "nodes_visited = follow_path(map)\n",
    "assert nodes_visited == 2\n"
   ]
  },
  {
   "cell_type": "code",
   "execution_count": 5,
   "metadata": {},
   "outputs": [],
   "source": [
    "other_text = \"\"\"LLR\n",
    "\n",
    "AAA = (BBB, BBB)\n",
    "BBB = (AAA, ZZZ)\n",
    "ZZZ = (ZZZ, ZZZ)\"\"\"\n",
    "\n",
    "other_map = read_map(other_text)\n",
    "\n",
    "nodes_visited = follow_path(other_map)\n",
    "assert nodes_visited == 6"
   ]
  },
  {
   "cell_type": "code",
   "execution_count": 6,
   "metadata": {},
   "outputs": [
    {
     "name": "stdout",
     "output_type": "stream",
     "text": [
      "17287\n",
      "Part a already solved with same answer: 17287\n"
     ]
    }
   ],
   "source": [
    "final_map = read_map(input)\n",
    "nodes_visited = follow_path(final_map)\n",
    "\n",
    "print(nodes_visited)\n",
    "\n",
    "submit(answer=nodes_visited, part=\"a\", day=day, year=year)"
   ]
  },
  {
   "cell_type": "code",
   "execution_count": 7,
   "metadata": {},
   "outputs": [
    {
     "name": "stdout",
     "output_type": "stream",
     "text": [
      "starting_nodes ['11A', '22A']\n"
     ]
    }
   ],
   "source": [
    "new_example = \"\"\"LR\n",
    "\n",
    "11A = (11B, XXX)\n",
    "11B = (XXX, 11Z)\n",
    "11Z = (11B, XXX)\n",
    "22A = (22B, XXX)\n",
    "22B = (22C, 22C)\n",
    "22C = (22Z, 22Z)\n",
    "22Z = (22B, 22B)\n",
    "XXX = (XXX, XXX)\"\"\"\n",
    "\n",
    "new_map = read_map(new_example)\n",
    "\n",
    "def follow_path_as_ghost(map):\n",
    "  path, vertices = map\n",
    "  steps = 0\n",
    "  path_index = 0\n",
    "  starting_nodes = [node for node in map[1].keys() if node[-1:] == \"A\"]\n",
    "  print(\"starting_nodes\", starting_nodes)\n",
    "  current_nodes = starting_nodes\n",
    "  while not all([node[-1:] == \"Z\" for node in current_nodes]):\n",
    "    current_nodes = [vertices[current_nodes[i]][0 if path[path_index] == \"L\" else 1]\n",
    "                    for i in range(len(current_nodes))]\n",
    "    if path_index == len(path) - 1:\n",
    "      path_index = 0\n",
    "    else:\n",
    "      path_index += 1\n",
    "    steps += 1\n",
    "  return steps\n",
    "\n",
    "assert follow_path_as_ghost(new_map) == 6"
   ]
  },
  {
   "cell_type": "code",
   "execution_count": 9,
   "metadata": {},
   "outputs": [
    {
     "name": "stdout",
     "output_type": "stream",
     "text": [
      "[13771, 20803, 23147, 19631, 17287, 17873]\n",
      "18625484023687\n",
      "\u001b[32mThat's the right answer!  You are one gold star closer to restoring snow operations.You have completed Day 8! You can [Shareon\n",
      "  Twitter\n",
      "Mastodon] this victory or [Return to Your Advent Calendar].\u001b[0m\n"
     ]
    },
    {
     "data": {
      "text/plain": [
       "<urllib3.response.HTTPResponse at 0x1b588ce3100>"
      ]
     },
     "execution_count": 9,
     "metadata": {},
     "output_type": "execute_result"
    }
   ],
   "source": [
    "import math\n",
    "\n",
    "def follow_path_for_ghost(map, starting_node):\n",
    "  path, vertices = map\n",
    "  nodes_visited = []\n",
    "  path_index = 0\n",
    "  current_node = starting_node\n",
    "  while current_node[-1:] != \"Z\":\n",
    "    next_node = vertices[current_node][0 if path[path_index] == \"L\" else 1]\n",
    "    current_node = next_node\n",
    "    if path_index == len(path) - 1:\n",
    "      path_index = 0\n",
    "    else:\n",
    "      path_index += 1\n",
    "    nodes_visited.append(current_node)\n",
    "  return nodes_visited\n",
    "\n",
    "\n",
    "def find_steps_for_each_starting_nodes(map):\n",
    "  starting_nodes = [node for node in map[1].keys() if node[-1:] == \"A\"]\n",
    "  ghosts_path = [follow_path_for_ghost(map, node) for node in starting_nodes]\n",
    "\n",
    "  return ghosts_path\n",
    "\n",
    "ghosts_path_length = [len(steps) for steps in find_steps_for_each_starting_nodes(final_map)]\n",
    "\n",
    "print(ghosts_path_length)\n",
    "\n",
    "def lcm(numbers): # Thanks to Logam\n",
    "  def lcm_two(a, b):\n",
    "    return abs(a*b) // math.gcd(a, b)\n",
    "\n",
    "  lcm_result = 1\n",
    "  for number in numbers:\n",
    "    lcm_result = lcm_two(lcm_result, number)\n",
    "\n",
    "  return lcm_result\n",
    "\n",
    "result = lcm(ghosts_path_length)\n",
    "\n",
    "print(result)\n",
    "\n",
    "submit(answer=result, part=\"b\", day=day, year=year)\n"
   ]
  },
  {
   "cell_type": "code",
   "execution_count": null,
   "metadata": {},
   "outputs": [],
   "source": []
  }
 ],
 "metadata": {
  "kernelspec": {
   "display_name": "Python 3",
   "language": "python",
   "name": "python3"
  },
  "language_info": {
   "codemirror_mode": {
    "name": "ipython",
    "version": 3
   },
   "file_extension": ".py",
   "mimetype": "text/x-python",
   "name": "python",
   "nbconvert_exporter": "python",
   "pygments_lexer": "ipython3",
   "version": "3.11.7"
  }
 },
 "nbformat": 4,
 "nbformat_minor": 2
}
