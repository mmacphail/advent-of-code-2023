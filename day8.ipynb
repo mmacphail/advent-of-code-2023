{
 "cells": [
  {
   "cell_type": "code",
   "execution_count": 2,
   "metadata": {},
   "outputs": [
    {
     "data": {
      "text/plain": [
       "True"
      ]
     },
     "execution_count": 2,
     "metadata": {},
     "output_type": "execute_result"
    }
   ],
   "source": [
    "from dotenv import load_dotenv\n",
    "\n",
    "load_dotenv() # load session"
   ]
  },
  {
   "cell_type": "code",
   "execution_count": 3,
   "metadata": {},
   "outputs": [],
   "source": [
    "import re\n",
    "from functools import reduce\n",
    "from aocd import get_data, submit\n",
    "day = 8\n",
    "year = 2023\n",
    "\n",
    "input = get_data(day=day, year=year)\n",
    "\n",
    "# submit(answer=result, part=\"a\", day=day, year=year)"
   ]
  },
  {
   "cell_type": "code",
   "execution_count": 4,
   "metadata": {},
   "outputs": [
    {
     "data": {
      "text/plain": [
       "('RL',\n",
       " {'AAA': ('BBB', 'CCC'),\n",
       "  'BBB': ('DDD', 'EEE'),\n",
       "  'CCC': ('ZZZ', 'GGG'),\n",
       "  'DDD': ('DDD', 'DDD'),\n",
       "  'EEE': ('EEE', 'EEE'),\n",
       "  'GGG': ('GGG', 'GGG'),\n",
       "  'ZZZ': ('ZZZ', 'ZZZ')})"
      ]
     },
     "execution_count": 4,
     "metadata": {},
     "output_type": "execute_result"
    }
   ],
   "source": [
    "text = \"\"\"RL\n",
    "\n",
    "AAA = (BBB, CCC)\n",
    "BBB = (DDD, EEE)\n",
    "CCC = (ZZZ, GGG)\n",
    "DDD = (DDD, DDD)\n",
    "EEE = (EEE, EEE)\n",
    "GGG = (GGG, GGG)\n",
    "ZZZ = (ZZZ, ZZZ)\"\"\"\n",
    "\n",
    "def read_map(input):\n",
    "  path = \"\"\n",
    "  \n",
    "  vertices = {}\n",
    "\n",
    "  for i, line in enumerate(input.splitlines()):\n",
    "    if i == 0:\n",
    "      path = line\n",
    "    elif line.strip() != \"\":\n",
    "      parts = line.split(\" = \")\n",
    "      origin = parts[0]\n",
    "      lr = parts[1].split(\", \")\n",
    "      left = lr[0][1:]\n",
    "      right = lr[1][0:-1]\n",
    "      vertices[origin] = (left, right)\n",
    "  return (path, vertices)\n",
    "\n",
    "map = read_map(text)\n",
    "\n",
    "map"
   ]
  },
  {
   "cell_type": "code",
   "execution_count": 27,
   "metadata": {},
   "outputs": [],
   "source": [
    "def follow_path(map):\n",
    "  path, vertices = map\n",
    "  nodes_visited = 0\n",
    "  path_index = 0\n",
    "  current_node = 'AAA'\n",
    "  while current_node != \"ZZZ\":\n",
    "    next_node = vertices[current_node][0 if path[path_index] == \"L\" else 1]\n",
    "    current_node = next_node\n",
    "    if path_index == len(path) - 1:\n",
    "      path_index = 0\n",
    "    else:\n",
    "      path_index += 1\n",
    "    nodes_visited += 1\n",
    "  return nodes_visited\n",
    "\n",
    "nodes_visited = follow_path(map)\n",
    "assert nodes_visited == 2\n"
   ]
  },
  {
   "cell_type": "code",
   "execution_count": 28,
   "metadata": {},
   "outputs": [],
   "source": [
    "other_text = \"\"\"LLR\n",
    "\n",
    "AAA = (BBB, BBB)\n",
    "BBB = (AAA, ZZZ)\n",
    "ZZZ = (ZZZ, ZZZ)\"\"\"\n",
    "\n",
    "other_map = read_map(other_text)\n",
    "\n",
    "nodes_visited = follow_path(other_map)\n",
    "assert nodes_visited == 6"
   ]
  },
  {
   "cell_type": "code",
   "execution_count": 29,
   "metadata": {},
   "outputs": [
    {
     "name": "stdout",
     "output_type": "stream",
     "text": [
      "17287\n",
      "aocd will not submit that answer again. At 2023-12-08 00:55:49.944987-05:00 you've previously submitted 17287 and the server responded with:\n",
      "\u001b[32mThat's the right answer!  You are one gold star closer to restoring snow operations. [Continue to Part Two]\u001b[0m\n"
     ]
    }
   ],
   "source": [
    "final_map = read_map(input)\n",
    "nodes_visited = follow_path(final_map)\n",
    "\n",
    "print(nodes_visited)\n",
    "\n",
    "submit(answer=nodes_visited, part=\"a\", day=day, year=year)"
   ]
  },
  {
   "cell_type": "code",
   "execution_count": 40,
   "metadata": {},
   "outputs": [
    {
     "name": "stdout",
     "output_type": "stream",
     "text": [
      "starting_nodes ['11A', '22A']\n"
     ]
    }
   ],
   "source": [
    "new_example = \"\"\"LR\n",
    "\n",
    "11A = (11B, XXX)\n",
    "11B = (XXX, 11Z)\n",
    "11Z = (11B, XXX)\n",
    "22A = (22B, XXX)\n",
    "22B = (22C, 22C)\n",
    "22C = (22Z, 22Z)\n",
    "22Z = (22B, 22B)\n",
    "XXX = (XXX, XXX)\"\"\"\n",
    "\n",
    "new_map = read_map(new_example)\n",
    "\n",
    "def follow_path_as_ghost(map):\n",
    "  path, vertices = map\n",
    "  steps = 0\n",
    "  path_index = 0\n",
    "  starting_nodes = [node for node in map[1].keys() if node[-1:] == \"A\"]\n",
    "  print(\"starting_nodes\", starting_nodes)\n",
    "  current_nodes = starting_nodes\n",
    "  while not all([node[-1:] == \"Z\" for node in current_nodes]):\n",
    "    current_nodes = [vertices[current_nodes[i]][0 if path[path_index] == \"L\" else 1]\n",
    "                    for i in range(len(current_nodes))]\n",
    "    if path_index == len(path) - 1:\n",
    "      path_index = 0\n",
    "    else:\n",
    "      path_index += 1\n",
    "    steps += 1\n",
    "  return steps\n",
    "\n",
    "assert follow_path_as_ghost(new_map) == 6"
   ]
  },
  {
   "cell_type": "code",
   "execution_count": 41,
   "metadata": {},
   "outputs": [
    {
     "name": "stdout",
     "output_type": "stream",
     "text": [
      "starting_nodes ['GPA', 'GTA', 'VDA', 'BBA', 'AAA', 'VSA']\n"
     ]
    },
    {
     "ename": "KeyboardInterrupt",
     "evalue": "",
     "output_type": "error",
     "traceback": [
      "\u001b[1;31m---------------------------------------------------------------------------\u001b[0m",
      "\u001b[1;31mKeyboardInterrupt\u001b[0m                         Traceback (most recent call last)",
      "\u001b[1;32mc:\\code\\advent\\day8.ipynb Cell 8\u001b[0m line \u001b[0;36m1\n\u001b[1;32m----> <a href='vscode-notebook-cell:/c%3A/code/advent/day8.ipynb#X10sZmlsZQ%3D%3D?line=0'>1</a>\u001b[0m steps \u001b[39m=\u001b[39m follow_path_as_ghost(final_map)\n",
      "\u001b[1;32mc:\\code\\advent\\day8.ipynb Cell 8\u001b[0m line \u001b[0;36m2\n\u001b[0;32m     <a href='vscode-notebook-cell:/c%3A/code/advent/day8.ipynb#X10sZmlsZQ%3D%3D?line=19'>20</a>\u001b[0m current_nodes \u001b[39m=\u001b[39m starting_nodes\n\u001b[0;32m     <a href='vscode-notebook-cell:/c%3A/code/advent/day8.ipynb#X10sZmlsZQ%3D%3D?line=20'>21</a>\u001b[0m \u001b[39mwhile\u001b[39;00m \u001b[39mnot\u001b[39;00m \u001b[39mall\u001b[39m([node[\u001b[39m-\u001b[39m\u001b[39m1\u001b[39m:] \u001b[39m==\u001b[39m \u001b[39m\"\u001b[39m\u001b[39mZ\u001b[39m\u001b[39m\"\u001b[39m \u001b[39mfor\u001b[39;00m node \u001b[39min\u001b[39;00m current_nodes]):\n\u001b[1;32m---> <a href='vscode-notebook-cell:/c%3A/code/advent/day8.ipynb#X10sZmlsZQ%3D%3D?line=21'>22</a>\u001b[0m   current_nodes \u001b[39m=\u001b[39m [vertices[current_nodes[i]][\u001b[39m0\u001b[39;49m \u001b[39mif\u001b[39;49;00m path[path_index] \u001b[39m==\u001b[39;49m \u001b[39m\"\u001b[39;49m\u001b[39mL\u001b[39;49m\u001b[39m\"\u001b[39;49m \u001b[39melse\u001b[39;49;00m \u001b[39m1\u001b[39;49m]\n\u001b[0;32m     <a href='vscode-notebook-cell:/c%3A/code/advent/day8.ipynb#X10sZmlsZQ%3D%3D?line=22'>23</a>\u001b[0m                   \u001b[39mfor\u001b[39;49;00m i \u001b[39min\u001b[39;49;00m \u001b[39mrange\u001b[39;49m(\u001b[39mlen\u001b[39;49m(current_nodes))]\n\u001b[0;32m     <a href='vscode-notebook-cell:/c%3A/code/advent/day8.ipynb#X10sZmlsZQ%3D%3D?line=23'>24</a>\u001b[0m   \u001b[39mif\u001b[39;00m path_index \u001b[39m==\u001b[39m \u001b[39mlen\u001b[39m(path) \u001b[39m-\u001b[39m \u001b[39m1\u001b[39m:\n\u001b[0;32m     <a href='vscode-notebook-cell:/c%3A/code/advent/day8.ipynb#X10sZmlsZQ%3D%3D?line=24'>25</a>\u001b[0m     path_index \u001b[39m=\u001b[39m \u001b[39m0\u001b[39m\n",
      "\u001b[1;32mc:\\code\\advent\\day8.ipynb Cell 8\u001b[0m line \u001b[0;36m2\n\u001b[0;32m     <a href='vscode-notebook-cell:/c%3A/code/advent/day8.ipynb#X10sZmlsZQ%3D%3D?line=19'>20</a>\u001b[0m current_nodes \u001b[39m=\u001b[39m starting_nodes\n\u001b[0;32m     <a href='vscode-notebook-cell:/c%3A/code/advent/day8.ipynb#X10sZmlsZQ%3D%3D?line=20'>21</a>\u001b[0m \u001b[39mwhile\u001b[39;00m \u001b[39mnot\u001b[39;00m \u001b[39mall\u001b[39m([node[\u001b[39m-\u001b[39m\u001b[39m1\u001b[39m:] \u001b[39m==\u001b[39m \u001b[39m\"\u001b[39m\u001b[39mZ\u001b[39m\u001b[39m\"\u001b[39m \u001b[39mfor\u001b[39;00m node \u001b[39min\u001b[39;00m current_nodes]):\n\u001b[1;32m---> <a href='vscode-notebook-cell:/c%3A/code/advent/day8.ipynb#X10sZmlsZQ%3D%3D?line=21'>22</a>\u001b[0m   current_nodes \u001b[39m=\u001b[39m [vertices[current_nodes[i]][\u001b[39m0\u001b[39m \u001b[39mif\u001b[39;00m path[path_index] \u001b[39m==\u001b[39m \u001b[39m\"\u001b[39m\u001b[39mL\u001b[39m\u001b[39m\"\u001b[39m \u001b[39melse\u001b[39;00m \u001b[39m1\u001b[39m]\n\u001b[0;32m     <a href='vscode-notebook-cell:/c%3A/code/advent/day8.ipynb#X10sZmlsZQ%3D%3D?line=22'>23</a>\u001b[0m                   \u001b[39mfor\u001b[39;00m i \u001b[39min\u001b[39;00m \u001b[39mrange\u001b[39m(\u001b[39mlen\u001b[39m(current_nodes))]\n\u001b[0;32m     <a href='vscode-notebook-cell:/c%3A/code/advent/day8.ipynb#X10sZmlsZQ%3D%3D?line=23'>24</a>\u001b[0m   \u001b[39mif\u001b[39;00m path_index \u001b[39m==\u001b[39m \u001b[39mlen\u001b[39m(path) \u001b[39m-\u001b[39m \u001b[39m1\u001b[39m:\n\u001b[0;32m     <a href='vscode-notebook-cell:/c%3A/code/advent/day8.ipynb#X10sZmlsZQ%3D%3D?line=24'>25</a>\u001b[0m     path_index \u001b[39m=\u001b[39m \u001b[39m0\u001b[39m\n",
      "\u001b[1;31mKeyboardInterrupt\u001b[0m: "
     ]
    }
   ],
   "source": [
    "steps = follow_path_as_ghost(final_map)"
   ]
  },
  {
   "cell_type": "code",
   "execution_count": null,
   "metadata": {},
   "outputs": [],
   "source": []
  }
 ],
 "metadata": {
  "kernelspec": {
   "display_name": "Python 3",
   "language": "python",
   "name": "python3"
  },
  "language_info": {
   "codemirror_mode": {
    "name": "ipython",
    "version": 3
   },
   "file_extension": ".py",
   "mimetype": "text/x-python",
   "name": "python",
   "nbconvert_exporter": "python",
   "pygments_lexer": "ipython3",
   "version": "3.11.7"
  }
 },
 "nbformat": 4,
 "nbformat_minor": 2
}
